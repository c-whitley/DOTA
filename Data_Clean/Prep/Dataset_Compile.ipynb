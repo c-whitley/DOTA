{
 "cells": [
  {
   "cell_type": "code",
   "execution_count": 1,
   "metadata": {
    "tags": []
   },
   "outputs": [],
   "source": [
    "%load_ext autoreload\n",
    "\n",
    "%autoreload 2"
   ]
  },
  {
   "cell_type": "code",
   "execution_count": 2,
   "metadata": {},
   "outputs": [],
   "source": [
    "import pandas as pd\n",
    "import numpy as np\n",
    "import matplotlib.pyplot as plt\n",
    "\n",
    "from pymongo import MongoClient\n",
    "\n",
    "import os\n",
    "import tqdm\n",
    "import requests\n",
    "\n",
    "from multiprocessing import Pool\n",
    "import time\n",
    "import itertools"
   ]
  },
  {
   "cell_type": "code",
   "execution_count": 3,
   "metadata": {},
   "outputs": [],
   "source": [
    "from tqdm.notebook import tqdm\n",
    "\n",
    "tqdm.pandas()"
   ]
  },
  {
   "cell_type": "code",
   "execution_count": 4,
   "metadata": {},
   "outputs": [],
   "source": [
    "heroes = pd.DataFrame(requests.get(f\"https://api.opendota.com/api/heroes\").json())"
   ]
  },
  {
   "cell_type": "code",
   "execution_count": 5,
   "metadata": {},
   "outputs": [
    {
     "output_type": "execute_result",
     "data": {
      "text/plain": "      id                          name  localized_name primary_attr  \\\n0      1        npc_dota_hero_antimage       Anti-Mage          agi   \n1      2             npc_dota_hero_axe             Axe          str   \n2      3            npc_dota_hero_bane            Bane          int   \n3      4     npc_dota_hero_bloodseeker     Bloodseeker          agi   \n4      5  npc_dota_hero_crystal_maiden  Crystal Maiden          int   \n..   ...                           ...             ...          ...   \n114  120       npc_dota_hero_pangolier       Pangolier          agi   \n115  121      npc_dota_hero_grimstroke      Grimstroke          int   \n116  126     npc_dota_hero_void_spirit     Void Spirit          int   \n117  128        npc_dota_hero_snapfire        Snapfire          str   \n118  129            npc_dota_hero_mars            Mars          str   \n\n    attack_type                                              roles  legs  \n0         Melee                             [Carry, Escape, Nuker]     2  \n1         Melee            [Initiator, Durable, Disabler, Jungler]     2  \n2        Ranged                [Support, Disabler, Nuker, Durable]     4  \n3         Melee       [Carry, Disabler, Jungler, Nuker, Initiator]     2  \n4        Ranged                [Support, Disabler, Nuker, Jungler]     2  \n..          ...                                                ...   ...  \n114       Melee  [Carry, Nuker, Disabler, Durable, Escape, Init...     2  \n115      Ranged                 [Support, Nuker, Disabler, Escape]     2  \n116       Melee                   [Carry, Escape, Nuker, Disabler]     2  \n117      Ranged                 [Support, Nuker, Disabler, Escape]     2  \n118       Melee              [Carry, Initiator, Disabler, Durable]     2  \n\n[119 rows x 7 columns]",
      "text/html": "<div>\n<style scoped>\n    .dataframe tbody tr th:only-of-type {\n        vertical-align: middle;\n    }\n\n    .dataframe tbody tr th {\n        vertical-align: top;\n    }\n\n    .dataframe thead th {\n        text-align: right;\n    }\n</style>\n<table border=\"1\" class=\"dataframe\">\n  <thead>\n    <tr style=\"text-align: right;\">\n      <th></th>\n      <th>id</th>\n      <th>name</th>\n      <th>localized_name</th>\n      <th>primary_attr</th>\n      <th>attack_type</th>\n      <th>roles</th>\n      <th>legs</th>\n    </tr>\n  </thead>\n  <tbody>\n    <tr>\n      <th>0</th>\n      <td>1</td>\n      <td>npc_dota_hero_antimage</td>\n      <td>Anti-Mage</td>\n      <td>agi</td>\n      <td>Melee</td>\n      <td>[Carry, Escape, Nuker]</td>\n      <td>2</td>\n    </tr>\n    <tr>\n      <th>1</th>\n      <td>2</td>\n      <td>npc_dota_hero_axe</td>\n      <td>Axe</td>\n      <td>str</td>\n      <td>Melee</td>\n      <td>[Initiator, Durable, Disabler, Jungler]</td>\n      <td>2</td>\n    </tr>\n    <tr>\n      <th>2</th>\n      <td>3</td>\n      <td>npc_dota_hero_bane</td>\n      <td>Bane</td>\n      <td>int</td>\n      <td>Ranged</td>\n      <td>[Support, Disabler, Nuker, Durable]</td>\n      <td>4</td>\n    </tr>\n    <tr>\n      <th>3</th>\n      <td>4</td>\n      <td>npc_dota_hero_bloodseeker</td>\n      <td>Bloodseeker</td>\n      <td>agi</td>\n      <td>Melee</td>\n      <td>[Carry, Disabler, Jungler, Nuker, Initiator]</td>\n      <td>2</td>\n    </tr>\n    <tr>\n      <th>4</th>\n      <td>5</td>\n      <td>npc_dota_hero_crystal_maiden</td>\n      <td>Crystal Maiden</td>\n      <td>int</td>\n      <td>Ranged</td>\n      <td>[Support, Disabler, Nuker, Jungler]</td>\n      <td>2</td>\n    </tr>\n    <tr>\n      <th>...</th>\n      <td>...</td>\n      <td>...</td>\n      <td>...</td>\n      <td>...</td>\n      <td>...</td>\n      <td>...</td>\n      <td>...</td>\n    </tr>\n    <tr>\n      <th>114</th>\n      <td>120</td>\n      <td>npc_dota_hero_pangolier</td>\n      <td>Pangolier</td>\n      <td>agi</td>\n      <td>Melee</td>\n      <td>[Carry, Nuker, Disabler, Durable, Escape, Init...</td>\n      <td>2</td>\n    </tr>\n    <tr>\n      <th>115</th>\n      <td>121</td>\n      <td>npc_dota_hero_grimstroke</td>\n      <td>Grimstroke</td>\n      <td>int</td>\n      <td>Ranged</td>\n      <td>[Support, Nuker, Disabler, Escape]</td>\n      <td>2</td>\n    </tr>\n    <tr>\n      <th>116</th>\n      <td>126</td>\n      <td>npc_dota_hero_void_spirit</td>\n      <td>Void Spirit</td>\n      <td>int</td>\n      <td>Melee</td>\n      <td>[Carry, Escape, Nuker, Disabler]</td>\n      <td>2</td>\n    </tr>\n    <tr>\n      <th>117</th>\n      <td>128</td>\n      <td>npc_dota_hero_snapfire</td>\n      <td>Snapfire</td>\n      <td>str</td>\n      <td>Ranged</td>\n      <td>[Support, Nuker, Disabler, Escape]</td>\n      <td>2</td>\n    </tr>\n    <tr>\n      <th>118</th>\n      <td>129</td>\n      <td>npc_dota_hero_mars</td>\n      <td>Mars</td>\n      <td>str</td>\n      <td>Melee</td>\n      <td>[Carry, Initiator, Disabler, Durable]</td>\n      <td>2</td>\n    </tr>\n  </tbody>\n</table>\n<p>119 rows × 7 columns</p>\n</div>"
     },
     "metadata": {},
     "execution_count": 5
    }
   ],
   "source": [
    "heroes"
   ]
  },
  {
   "cell_type": "code",
   "execution_count": 6,
   "metadata": {},
   "outputs": [],
   "source": [
    "synergy = pd.read_pickle(\"/mnt/b/Git_Projects/DOTA2Project/Stats_Data/synergy.pickle\")"
   ]
  },
  {
   "cell_type": "code",
   "execution_count": 7,
   "metadata": {},
   "outputs": [],
   "source": [
    "adversity = pd.read_pickle(\"/mnt/b/Git_Projects/DOTA2Project/Stats_Data/adversity.pickle\")"
   ]
  },
  {
   "cell_type": "code",
   "execution_count": 8,
   "metadata": {},
   "outputs": [],
   "source": [
    "all_ = pd.read_pickle(\"/mnt/b/Git_Projects/DOTA2Project/Stats_Data/data_new.pickle\")"
   ]
  },
  {
   "cell_type": "code",
   "execution_count": 9,
   "metadata": {},
   "outputs": [
    {
     "output_type": "execute_result",
     "data": {
      "text/plain": "                        _id    match_id radiant_win  account_id0  hero_id0  \\\n0  5de94b5e279b6dc43f1378a3  2304329004           t   4294967295        14   \n1  5de94b5e279b6dc43f1378a4  2304324185           t    124964100        26   \n2  5de94b5e279b6dc43f1378a5  2304335744           t   4294967295        29   \n3  5de94b5e279b6dc43f1378a6  2304333169           f   4294967295        93   \n4  5de94b5e279b6dc43f1378a7  2304332593           t   4294967295        22   \n\n   account_id1  hero_id1  account_id2  hero_id2  account_id3  ...  \\\n0   4294967295        62    121397020        61     97735138  ...   \n1   4294967295        35   4294967295        18    169834263  ...   \n2   4294967295        44   4294967295        73   4294967295  ...   \n3   4294967295        73    291017174       112   4294967295  ...   \n4    132440989       100   4294967295        93    166469122  ...   \n\n   account_id129  hero_id129  account_id130  hero_id130  account_id131  \\\n0       95882819           1      114997441          32     4294967295   \n1      176272692          12     4294967295          14      115451143   \n2     4294967295          77      108710635          39      137517574   \n3      199965965           1     4294967295          34     4294967295   \n4     4294967295          33      124213727          68     4294967295   \n\n   hero_id131  account_id132  hero_id132          Radiant_heros  \\\n0          35     4294967295          30    [14, 62, 61, 18, 5]   \n1          38     4294967295          80   [26, 35, 18, 20, 74]   \n2         109      158673305          58   [29, 44, 73, 93, 27]   \n3          14      279083894          71  [93, 73, 112, 74, 53]   \n4          18     4294967295          39  [22, 100, 93, 75, 94]   \n\n              Dire_heros  \n0     [6, 1, 32, 35, 30]  \n1    [7, 12, 14, 38, 80]  \n2  [75, 77, 39, 109, 58]  \n3   [104, 1, 34, 14, 71]  \n4   [80, 33, 68, 18, 39]  \n\n[5 rows x 25 columns]",
      "text/html": "<div>\n<style scoped>\n    .dataframe tbody tr th:only-of-type {\n        vertical-align: middle;\n    }\n\n    .dataframe tbody tr th {\n        vertical-align: top;\n    }\n\n    .dataframe thead th {\n        text-align: right;\n    }\n</style>\n<table border=\"1\" class=\"dataframe\">\n  <thead>\n    <tr style=\"text-align: right;\">\n      <th></th>\n      <th>_id</th>\n      <th>match_id</th>\n      <th>radiant_win</th>\n      <th>account_id0</th>\n      <th>hero_id0</th>\n      <th>account_id1</th>\n      <th>hero_id1</th>\n      <th>account_id2</th>\n      <th>hero_id2</th>\n      <th>account_id3</th>\n      <th>...</th>\n      <th>account_id129</th>\n      <th>hero_id129</th>\n      <th>account_id130</th>\n      <th>hero_id130</th>\n      <th>account_id131</th>\n      <th>hero_id131</th>\n      <th>account_id132</th>\n      <th>hero_id132</th>\n      <th>Radiant_heros</th>\n      <th>Dire_heros</th>\n    </tr>\n  </thead>\n  <tbody>\n    <tr>\n      <th>0</th>\n      <td>5de94b5e279b6dc43f1378a3</td>\n      <td>2304329004</td>\n      <td>t</td>\n      <td>4294967295</td>\n      <td>14</td>\n      <td>4294967295</td>\n      <td>62</td>\n      <td>121397020</td>\n      <td>61</td>\n      <td>97735138</td>\n      <td>...</td>\n      <td>95882819</td>\n      <td>1</td>\n      <td>114997441</td>\n      <td>32</td>\n      <td>4294967295</td>\n      <td>35</td>\n      <td>4294967295</td>\n      <td>30</td>\n      <td>[14, 62, 61, 18, 5]</td>\n      <td>[6, 1, 32, 35, 30]</td>\n    </tr>\n    <tr>\n      <th>1</th>\n      <td>5de94b5e279b6dc43f1378a4</td>\n      <td>2304324185</td>\n      <td>t</td>\n      <td>124964100</td>\n      <td>26</td>\n      <td>4294967295</td>\n      <td>35</td>\n      <td>4294967295</td>\n      <td>18</td>\n      <td>169834263</td>\n      <td>...</td>\n      <td>176272692</td>\n      <td>12</td>\n      <td>4294967295</td>\n      <td>14</td>\n      <td>115451143</td>\n      <td>38</td>\n      <td>4294967295</td>\n      <td>80</td>\n      <td>[26, 35, 18, 20, 74]</td>\n      <td>[7, 12, 14, 38, 80]</td>\n    </tr>\n    <tr>\n      <th>2</th>\n      <td>5de94b5e279b6dc43f1378a5</td>\n      <td>2304335744</td>\n      <td>t</td>\n      <td>4294967295</td>\n      <td>29</td>\n      <td>4294967295</td>\n      <td>44</td>\n      <td>4294967295</td>\n      <td>73</td>\n      <td>4294967295</td>\n      <td>...</td>\n      <td>4294967295</td>\n      <td>77</td>\n      <td>108710635</td>\n      <td>39</td>\n      <td>137517574</td>\n      <td>109</td>\n      <td>158673305</td>\n      <td>58</td>\n      <td>[29, 44, 73, 93, 27]</td>\n      <td>[75, 77, 39, 109, 58]</td>\n    </tr>\n    <tr>\n      <th>3</th>\n      <td>5de94b5e279b6dc43f1378a6</td>\n      <td>2304333169</td>\n      <td>f</td>\n      <td>4294967295</td>\n      <td>93</td>\n      <td>4294967295</td>\n      <td>73</td>\n      <td>291017174</td>\n      <td>112</td>\n      <td>4294967295</td>\n      <td>...</td>\n      <td>199965965</td>\n      <td>1</td>\n      <td>4294967295</td>\n      <td>34</td>\n      <td>4294967295</td>\n      <td>14</td>\n      <td>279083894</td>\n      <td>71</td>\n      <td>[93, 73, 112, 74, 53]</td>\n      <td>[104, 1, 34, 14, 71]</td>\n    </tr>\n    <tr>\n      <th>4</th>\n      <td>5de94b5e279b6dc43f1378a7</td>\n      <td>2304332593</td>\n      <td>t</td>\n      <td>4294967295</td>\n      <td>22</td>\n      <td>132440989</td>\n      <td>100</td>\n      <td>4294967295</td>\n      <td>93</td>\n      <td>166469122</td>\n      <td>...</td>\n      <td>4294967295</td>\n      <td>33</td>\n      <td>124213727</td>\n      <td>68</td>\n      <td>4294967295</td>\n      <td>18</td>\n      <td>4294967295</td>\n      <td>39</td>\n      <td>[22, 100, 93, 75, 94]</td>\n      <td>[80, 33, 68, 18, 39]</td>\n    </tr>\n  </tbody>\n</table>\n<p>5 rows × 25 columns</p>\n</div>"
     },
     "metadata": {},
     "execution_count": 9
    }
   ],
   "source": [
    "all_.head()"
   ]
  },
  {
   "cell_type": "code",
   "execution_count": 10,
   "metadata": {},
   "outputs": [],
   "source": [
    "from scipy import stats"
   ]
  },
  {
   "cell_type": "markdown",
   "metadata": {},
   "source": [
    "Write a decorator function to apply the statistics to each of the score types (synergy, adversity etc..)"
   ]
  },
  {
   "cell_type": "code",
   "execution_count": 25,
   "metadata": {},
   "outputs": [
    {
     "output_type": "error",
     "ename": "KeyError",
     "evalue": "119",
     "traceback": [
      "\u001b[0;31m---------------------------------------------------------------------------\u001b[0m",
      "\u001b[0;31mKeyError\u001b[0m                                  Traceback (most recent call last)",
      "\u001b[0;32m<ipython-input-25-8c215d824920>\u001b[0m in \u001b[0;36m<module>\u001b[0;34m\u001b[0m\n\u001b[0;32m----> 1\u001b[0;31m \u001b[0mdict\u001b[0m\u001b[0;34m(\u001b[0m\u001b[0mheroes\u001b[0m\u001b[0;34m.\u001b[0m\u001b[0mid\u001b[0m\u001b[0;34m)\u001b[0m\u001b[0;34m[\u001b[0m\u001b[0;36m119\u001b[0m\u001b[0;34m]\u001b[0m\u001b[0;34m\u001b[0m\u001b[0;34m\u001b[0m\u001b[0m\n\u001b[0m",
      "\u001b[0;31mKeyError\u001b[0m: 119"
     ]
    }
   ],
   "source": [
    "dict(heroes.id)[119]"
   ]
  },
  {
   "cell_type": "code",
   "execution_count": 28,
   "metadata": {},
   "outputs": [
    {
     "output_type": "execute_result",
     "data": {
      "text/plain": "0.5207762557077625"
     },
     "metadata": {},
     "execution_count": 28
    }
   ],
   "source": [
    "adversity.loc[(1, 112)].values[0]"
   ]
  },
  {
   "cell_type": "code",
   "execution_count": 32,
   "metadata": {
    "tags": []
   },
   "outputs": [
    {
     "output_type": "display_data",
     "data": {
      "text/plain": "HBox(children=(FloatProgress(value=0.0, max=100000.0), HTML(value='')))",
      "application/vnd.jupyter.widget-view+json": {
       "version_major": 2,
       "version_minor": 0,
       "model_id": "a60287c925c9437f94e84ee025ae8824"
      }
     },
     "metadata": {}
    },
    {
     "output_type": "stream",
     "name": "stdout",
     "text": "\n"
    },
    {
     "output_type": "error",
     "ename": "NameError",
     "evalue": "name 'synergy' is not defined",
     "traceback": [
      "\u001b[0;31m---------------------------------------------------------------------------\u001b[0m",
      "\u001b[0;31mNameError\u001b[0m                                 Traceback (most recent call last)",
      "\u001b[0;32m/mnt/b/Git_Projects/DOTA2Project/Data_Clean/Prep/Data_Prep_Methods.py\u001b[0m in \u001b[0;36msynergy_scores\u001b[0;34m(row)\u001b[0m\n\u001b[1;32m     57\u001b[0m             \u001b[0;32mtry\u001b[0m\u001b[0;34m:\u001b[0m\u001b[0;34m\u001b[0m\u001b[0;34m\u001b[0m\u001b[0m\n\u001b[0;32m---> 58\u001b[0;31m                 \u001b[0moutput\u001b[0m\u001b[0;34m[\u001b[0m\u001b[0;34mf\"t{ti}-p{pi}\"\u001b[0m\u001b[0;34m]\u001b[0m \u001b[0;34m=\u001b[0m \u001b[0msynergy\u001b[0m\u001b[0;34m.\u001b[0m\u001b[0mloc\u001b[0m\u001b[0;34m[\u001b[0m\u001b[0;34m(\u001b[0m\u001b[0mh1\u001b[0m\u001b[0;34m,\u001b[0m \u001b[0mh2\u001b[0m\u001b[0;34m)\u001b[0m\u001b[0;34m]\u001b[0m\u001b[0;34m.\u001b[0m\u001b[0mvalues\u001b[0m\u001b[0;34m[\u001b[0m\u001b[0;36m0\u001b[0m\u001b[0;34m]\u001b[0m\u001b[0;34m\u001b[0m\u001b[0;34m\u001b[0m\u001b[0m\n\u001b[0m\u001b[1;32m     59\u001b[0m \u001b[0;34m\u001b[0m\u001b[0m\n",
      "\u001b[0;31mNameError\u001b[0m: name 'synergy' is not defined",
      "\nDuring handling of the above exception, another exception occurred:\n",
      "\u001b[0;31mNameError\u001b[0m                                 Traceback (most recent call last)",
      "\u001b[0;32m<ipython-input-32-72a6a3856458>\u001b[0m in \u001b[0;36m<module>\u001b[0;34m\u001b[0m\n\u001b[1;32m      5\u001b[0m \u001b[0;32mfor\u001b[0m \u001b[0mi\u001b[0m\u001b[0;34m,\u001b[0m \u001b[0mrow\u001b[0m \u001b[0;32min\u001b[0m \u001b[0mtqdm\u001b[0m\u001b[0;34m(\u001b[0m\u001b[0mlist\u001b[0m\u001b[0;34m(\u001b[0m\u001b[0mall_\u001b[0m\u001b[0;34m.\u001b[0m\u001b[0msample\u001b[0m\u001b[0;34m(\u001b[0m\u001b[0;36m100000\u001b[0m\u001b[0;34m)\u001b[0m\u001b[0;34m.\u001b[0m\u001b[0miterrows\u001b[0m\u001b[0;34m(\u001b[0m\u001b[0;34m)\u001b[0m\u001b[0;34m)\u001b[0m\u001b[0;34m)\u001b[0m\u001b[0;34m:\u001b[0m\u001b[0;34m\u001b[0m\u001b[0;34m\u001b[0m\u001b[0m\n\u001b[1;32m      6\u001b[0m \u001b[0;34m\u001b[0m\u001b[0m\n\u001b[0;32m----> 7\u001b[0;31m     dataset[i] = {**dpm.synergy_scores(row),\n\u001b[0m\u001b[1;32m      8\u001b[0m                 \u001b[0;34m**\u001b[0m\u001b[0mdpm\u001b[0m\u001b[0;34m.\u001b[0m\u001b[0madversity_scores\u001b[0m\u001b[0;34m(\u001b[0m\u001b[0mrow\u001b[0m\u001b[0;34m)\u001b[0m\u001b[0;34m,\u001b[0m\u001b[0;34m\u001b[0m\u001b[0;34m\u001b[0m\u001b[0m\n\u001b[1;32m      9\u001b[0m                 \u001b[0;34m**\u001b[0m\u001b[0mdpm\u001b[0m\u001b[0;34m.\u001b[0m\u001b[0mhero_one_hot\u001b[0m\u001b[0;34m(\u001b[0m\u001b[0mrow\u001b[0m\u001b[0;34m)\u001b[0m\u001b[0;34m,\u001b[0m\u001b[0;34m\u001b[0m\u001b[0;34m\u001b[0m\u001b[0m\n",
      "\u001b[0;32m/mnt/b/Git_Projects/DOTA2Project/Data_Clean/Prep/Data_Prep_Methods.py\u001b[0m in \u001b[0;36msynergy_scores\u001b[0;34m(row)\u001b[0m\n\u001b[1;32m     59\u001b[0m \u001b[0;34m\u001b[0m\u001b[0m\n\u001b[1;32m     60\u001b[0m             \u001b[0;32mexcept\u001b[0m\u001b[0;34m:\u001b[0m\u001b[0;34m\u001b[0m\u001b[0;34m\u001b[0m\u001b[0m\n\u001b[0;32m---> 61\u001b[0;31m                 \u001b[0moutput\u001b[0m\u001b[0;34m[\u001b[0m\u001b[0;34mf\"t{ti}-p{pi}\"\u001b[0m\u001b[0;34m]\u001b[0m \u001b[0;34m=\u001b[0m \u001b[0msynergy\u001b[0m\u001b[0;34m.\u001b[0m\u001b[0mloc\u001b[0m\u001b[0;34m[\u001b[0m\u001b[0;34m(\u001b[0m\u001b[0mh1\u001b[0m\u001b[0;34m,\u001b[0m \u001b[0mh2\u001b[0m\u001b[0;34m)\u001b[0m\u001b[0;34m[\u001b[0m\u001b[0;34m:\u001b[0m\u001b[0;34m:\u001b[0m\u001b[0;34m-\u001b[0m\u001b[0;36m1\u001b[0m\u001b[0;34m]\u001b[0m\u001b[0;34m]\u001b[0m\u001b[0;34m.\u001b[0m\u001b[0mvalues\u001b[0m\u001b[0;34m[\u001b[0m\u001b[0;36m0\u001b[0m\u001b[0;34m]\u001b[0m\u001b[0;34m\u001b[0m\u001b[0;34m\u001b[0m\u001b[0m\n\u001b[0m\u001b[1;32m     62\u001b[0m \u001b[0;34m\u001b[0m\u001b[0m\n\u001b[1;32m     63\u001b[0m     \u001b[0;32mreturn\u001b[0m \u001b[0moutput\u001b[0m\u001b[0;34m\u001b[0m\u001b[0;34m\u001b[0m\u001b[0m\n",
      "\u001b[0;31mNameError\u001b[0m: name 'synergy' is not defined"
     ]
    }
   ],
   "source": [
    "import Data_Prep_Methods as dpm\n",
    "\n",
    "dataset = dict()\n",
    "\n",
    "for i, row in tqdm(list(all_.sample(100000).iterrows())):\n",
    "\n",
    "    dataset[i] = {**dpm.synergy_scores(row),\n",
    "                **dpm.adversity_scores(row),\n",
    "                **dpm.hero_one_hot(row),\n",
    "                **{\"Radiant_win\": row.radiant_win,\n",
    "                    \"match_id\": row.match_id}}\n",
    "    if i%10==0:\n",
    "        dataframe = pd.DataFrame(dataset).T\n",
    "        print(dataframe.shape)\n",
    "        dataframe.to_pickle(os.getcwd() + \"small_dataset_2.pickle\")\n",
    "    \"\"\"\n",
    "    try:\n",
    "        dataset[i] = {**synergy_scores(row),\n",
    "                      **adversity_scores(row),\n",
    "                      **hero_one_hot(row),\n",
    "                      **{\"Radiant_win\": row.radiant_win,\n",
    "                         \"match_id\": row.match_id}}\n",
    "        if i%10==0:\n",
    "            dataframe = pd.DataFrame(dataset).T\n",
    "            dataframe.to_pickle(os.getcwd() + \"small_dataset_2.pickle\")\n",
    "\n",
    "    except:\n",
    "        continue\n",
    "    \"\"\"\n",
    "dataframe = pd.DataFrame(dataset).T"
   ]
  },
  {
   "cell_type": "code",
   "execution_count": null,
   "metadata": {},
   "outputs": [],
   "source": [
    "dataset.to_pickle(os.getcwd() + \"small_dataset_2.pickle\")"
   ]
  },
  {
   "cell_type": "code",
   "execution_count": null,
   "metadata": {},
   "outputs": [],
   "source": []
  }
 ],
 "metadata": {
  "kernelspec": {
   "display_name": "Python 3",
   "language": "python",
   "name": "python3"
  },
  "language_info": {
   "codemirror_mode": {
    "name": "ipython",
    "version": 3
   },
   "file_extension": ".py",
   "mimetype": "text/x-python",
   "name": "python",
   "nbconvert_exporter": "python",
   "pygments_lexer": "ipython3",
   "version": "3.7.7"
  }
 },
 "nbformat": 4,
 "nbformat_minor": 4
}