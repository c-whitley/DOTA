{
 "cells": [
  {
   "cell_type": "code",
<<<<<<< HEAD
   "execution_count": 2,
=======
   "execution_count": 1,
>>>>>>> 9d95e434345a4a5c48656bf6a78b60e81795bf2d
   "metadata": {},
   "outputs": [],
   "source": [
    "import os"
   ]
  },
  {
   "cell_type": "code",
<<<<<<< HEAD
   "execution_count": 7,
=======
   "execution_count": 2,
>>>>>>> 9d95e434345a4a5c48656bf6a78b60e81795bf2d
   "metadata": {},
   "outputs": [],
   "source": [
    "cwd = os.path.join(os.getcwd(), \"dota_data\")\n",
    "\n",
    "for file_name in os.listdir(cwd):\n",
    "    \n",
    "    file_name = os.path.join(cwd, file_name)\n",
    "    \n",
    "    os.system(f\"mongoimport -d dota -c matches_pgroup_format {file_name}\")"
   ]
  }
 ],
 "metadata": {
  "kernelspec": {
   "display_name": "Python 3",
   "language": "python",
   "name": "python3"
  },
  "language_info": {
   "codemirror_mode": {
    "name": "ipython",
    "version": 3
   },
   "file_extension": ".py",
   "mimetype": "text/x-python",
   "name": "python",
   "nbconvert_exporter": "python",
   "pygments_lexer": "ipython3",
<<<<<<< HEAD
   "version": "3.7.0"
=======
   "version": "3.6.9"
>>>>>>> 9d95e434345a4a5c48656bf6a78b60e81795bf2d
  }
 },
 "nbformat": 4,
 "nbformat_minor": 4
}
