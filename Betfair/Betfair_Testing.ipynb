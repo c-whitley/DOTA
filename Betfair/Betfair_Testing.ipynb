{
 "cells": [
  {
   "cell_type": "code",
   "execution_count": 5,
   "metadata": {},
   "outputs": [],
   "source": [
    "import logging\n",
    "import betfairlightweight\n",
    "\n",
    "import os\n",
    "\n",
    "import pandas as pd\n",
    "import numpy as np\n",
    "import matplotlib.pyplot as plt"
   ]
  },
  {
   "cell_type": "code",
   "execution_count": 2,
   "metadata": {},
   "outputs": [],
   "source": [
    "logging.basicConfig(level=logging.INFO) "
   ]
  },
  {
   "cell_type": "code",
   "execution_count": 116,
   "metadata": {},
   "outputs": [
    {
     "name": "stdin",
     "output_type": "stream",
     "text": [
      "password bo0gY15ExBEa\n"
     ]
    }
   ],
   "source": [
    "trading = betfairlightweight.APIClient(\"conorwhitley2@hotmail.com\", input(\"password\"), app_key=\"xehSoNOHXg1cjDkl\", certs = os.getcwd() + \"/certs\")"
   ]
  },
  {
   "cell_type": "code",
   "execution_count": 117,
   "metadata": {},
   "outputs": [
    {
     "data": {
      "text/plain": [
       "<LoginResource>"
      ]
     },
     "execution_count": 117,
     "metadata": {},
     "output_type": "execute_result"
    }
   ],
   "source": [
    "trading.login()"
   ]
  },
  {
   "cell_type": "code",
   "execution_count": 118,
   "metadata": {},
   "outputs": [
    {
     "data": {
      "text/plain": [
       "{'sport': 'Other Sports',\n",
       " 'plan': 'Basic Plan',\n",
       " 'forDate': '2015-04-01T00:00:00',\n",
       " 'purchaseItemId': 47161}"
      ]
     },
     "execution_count": 118,
     "metadata": {},
     "output_type": "execute_result"
    }
   ],
   "source": [
    "trading.historic.get_my_data()[0]"
   ]
  },
  {
   "cell_type": "code",
   "execution_count": 38,
   "metadata": {},
   "outputs": [],
   "source": [
    "file_list = trading.historic.get_file_list(\n",
    "    sport = \"Other Sports\",\n",
    "    plan = \"Basic Plan\",\n",
    "    from_day = 1,\n",
    "    from_month = 5,\n",
    "    from_year = 2016,\n",
    "    to_day = 3,\n",
    "    to_month = 5,\n",
    "    to_year = 2016)"
   ]
  },
  {
   "cell_type": "code",
   "execution_count": 38,
   "metadata": {},
   "outputs": [],
   "source": [
    "file_list = trading.historic.get_file_list(\n",
    "    sport = \"Other Sports\",\n",
    "    plan = \"Basic Plan\",\n",
    "    from_day = 1,\n",
    "    from_month = 5,\n",
    "    from_year = 2016,\n",
    "    to_day = 3,\n",
    "    to_month = 5,\n",
    "    to_year = 2016)"
   ]
  },
  {
   "cell_type": "code",
   "execution_count": 91,
   "metadata": {},
   "outputs": [
    {
     "name": "stdout",
     "output_type": "stream",
     "text": [
      "Help on method get_file_list in module betfairlightweight.endpoints.historic:\n",
      "\n",
      "get_file_list(sport: str, plan: str, from_day: str, from_month: str, from_year: str, to_day: str, to_month: str, to_year: str, event_id: str = None, event_name: str = None, market_types_collection: str = None, countries_collection: str = None, file_type_collection: str = None, session: requests.sessions.Session = None) -> dict method of betfairlightweight.endpoints.historic.Historic instance\n",
      "    Returns a list of files which can then be used to download.\n",
      "    \n",
      "    :param sport: sport to filter data for.\n",
      "    :param plan: plan type to filter for, Basic Plan, Advanced Plan or Pro Plan.\n",
      "    :param from_day: day of month to start data from.\n",
      "    :param from_month: month to start data from.\n",
      "    :param from_year: year to start data from.\n",
      "    :param to_day: day of month to end data at.\n",
      "    :param to_month: month to end data at.\n",
      "    :param to_year: year to end data at.\n",
      "    :param event_id: id of a specific event to get data for.\n",
      "    :param event_name: name of a specific event to get data for.\n",
      "    :param market_types_collection: list of specific marketTypes to filter for.\n",
      "    :param countries_collection: list of countries to filter for.\n",
      "    :param file_type_collection: list of file types.\n",
      "    :param requests.session session: Requests session object\n",
      "    \n",
      "    :rtype: dict\n",
      "\n"
     ]
    }
   ],
   "source": [
    "help(trading.historic.get_file_list)"
   ]
  },
  {
   "cell_type": "code",
   "execution_count": 40,
   "metadata": {},
   "outputs": [
    {
     "name": "stdout",
     "output_type": "stream",
     "text": [
      "/xds_nfs/hdfs_supreme/BASIC/2016/May/1/27773759/1.124597903.bz2\n"
     ]
    }
   ],
   "source": [
    "file_name = file_list[0]\n",
    "print(file_name)"
   ]
  },
  {
   "cell_type": "code",
   "execution_count": 42,
   "metadata": {},
   "outputs": [],
   "source": [
    "DL = trading.historic.download_file(file_name)"
   ]
  },
  {
   "cell_type": "code",
   "execution_count": 70,
   "metadata": {},
   "outputs": [],
   "source": [
    "import bz2"
   ]
  },
  {
   "cell_type": "code",
   "execution_count": 81,
   "metadata": {},
   "outputs": [
    {
     "data": {
      "text/plain": [
       "['.ipynb_checkpoints',\n",
       " '1.124597903.bz2',\n",
       " '1.170216810.bz2',\n",
       " 'BetFair_Data.tar',\n",
       " 'Betfair_Testing.ipynb']"
      ]
     },
     "execution_count": 81,
     "metadata": {},
     "output_type": "execute_result"
    }
   ],
   "source": [
    "os.listdir(os.path.join(os.getcwd(), \"Betfair\"))"
   ]
  },
  {
   "cell_type": "code",
   "execution_count": 131,
   "metadata": {},
   "outputs": [
    {
     "name": "stdout",
     "output_type": "stream",
     "text": [
      "{\"op\":\"mcm\",\"clk\":\"1293455817\",\"pt\":1584836569992,\"mc\":[{\"id\":\"1.170216810\",\"marketDefinition\":{\"bspMarket\":true,\"turnInPlayEnabled\":true,\"persistenceEnabled\":true,\"marketBaseRate\":2.5,\"eventId\":\"29721618\",\"eventTypeId\":\"61420\",\"numberOfWinners\":1,\"bettingType\":\"ODDS\",\"marketType\":\"MATCH_ODDS\",\"marketTime\":\"2020-03-28T05:35:00.000Z\",\"suspendTime\":\"2020-03-28T05:35:00.000Z\",\"bspReconciled\":false,\"complete\":true,\"inPlay\":false,\"crossMatching\":false,\"runnersVoidable\":false,\"numberOfActiveRunners\":2,\"betDelay\":0,\"status\":\"OPEN\",\"runners\":[{\"status\":\"ACTIVE\",\"sortPriority\":1,\"id\":39980,\"name\":\"Carlton\"},{\"status\":\"ACTIVE\",\"sortPriority\":2,\"id\":39986,\"name\":\"Western Bulldogs\"}],\"regulators\":[\"MR_INT\"],\"countryCode\":\"AU\",\"discountAllowed\":true,\"timezone\":\"GMT\",\"openDate\":\"2020-03-28T05:35:00.000Z\",\"version\":3232131321,\"name\":\"Match Odds\",\"eventName\":\"Carlton v Western Bulldogs\"}}]}\n",
      "{\"op\":\"mcm\",\"clk\":\"1293935138\",\"pt\":1584854572001,\"mc\":[{\"id\":\"1.170216810\",\"marketDefinition\":{\"bspMarket\":true,\"turnInPlayEnabled\":true,\"persistenceEnabled\":true,\"marketBaseRate\":2.5,\"eventId\":\"29721618\",\"eventTypeId\":\"61420\",\"numberOfWinners\":1,\"bettingType\":\"ODDS\",\"marketType\":\"MATCH_ODDS\",\"marketTime\":\"2020-03-28T05:35:00.000Z\",\"suspendTime\":\"2020-03-28T05:35:00.000Z\",\"bspReconciled\":false,\"complete\":true,\"inPlay\":false,\"crossMatching\":false,\"runnersVoidable\":false,\"numberOfActiveRunners\":2,\"betDelay\":0,\"status\":\"SUSPENDED\",\"runners\":[{\"status\":\"ACTIVE\",\"sortPriority\":1,\"id\":39980,\"name\":\"Carlton\"},{\"status\":\"ACTIVE\",\"sortPriority\":2,\"id\":39986,\"name\":\"Western Bulldogs\"}],\"regulators\":[\"MR_INT\"],\"countryCode\":\"AU\",\"discountAllowed\":true,\"timezone\":\"GMT\",\"openDate\":\"2020-03-28T05:35:00.000Z\",\"version\":3232201569,\"name\":\"Match Odds\",\"eventName\":\"Carlton v Western Bulldogs\"}}]}\n",
      "{\"op\":\"mcm\",\"clk\":\"1293963403\",\"pt\":1584855999047,\"mc\":[{\"id\":\"1.170216810\",\"marketDefinition\":{\"bspMarket\":true,\"turnInPlayEnabled\":true,\"persistenceEnabled\":true,\"marketBaseRate\":2.5,\"eventId\":\"29721618\",\"eventTypeId\":\"61420\",\"numberOfWinners\":1,\"bettingType\":\"ODDS\",\"marketType\":\"MATCH_ODDS\",\"marketTime\":\"2020-03-28T05:35:00.000Z\",\"suspendTime\":\"2020-03-28T05:35:00.000Z\",\"bspReconciled\":false,\"complete\":true,\"inPlay\":false,\"crossMatching\":false,\"runnersVoidable\":false,\"numberOfActiveRunners\":0,\"betDelay\":0,\"status\":\"CLOSED\",\"settledTime\":\"2020-03-22T05:46:36.000Z\",\"runners\":[{\"status\":\"REMOVED\",\"sortPriority\":1,\"removalDate\":\"2020-03-22T05:46:36.000Z\",\"id\":39980,\"name\":\"Carlton\"},{\"status\":\"REMOVED\",\"sortPriority\":2,\"removalDate\":\"2020-03-22T05:46:36.000Z\",\"id\":39986,\"name\":\"Western Bulldogs\"}],\"regulators\":[\"MR_INT\"],\"countryCode\":\"AU\",\"discountAllowed\":true,\"timezone\":\"GMT\",\"openDate\":\"2020-03-28T05:35:00.000Z\",\"version\":3232212665,\"name\":\"Match Odds\",\"eventName\":\"Carlton v Western Bulldogs\"}}]}\n",
      "\n"
     ]
    }
   ],
   "source": [
    "with bz2.open(os.path.join(os.getcwd(), \"Betfair/2.bz2\"), mode = \"rt\") as file:\n",
    "    \n",
    "    print(file.read())"
   ]
  },
  {
   "cell_type": "markdown",
   "metadata": {},
   "source": [
    "# Searching Event Types"
   ]
  },
  {
   "cell_type": "code",
   "execution_count": 119,
   "metadata": {},
   "outputs": [],
   "source": [
    "from betfairlightweight import filters"
   ]
  },
  {
   "cell_type": "code",
   "execution_count": 121,
   "metadata": {},
   "outputs": [],
   "source": [
    "catalogue = trading.betting.list_market_catalogue(filter = filters.market_filter(event_type_ids = [27454571]))"
   ]
  },
  {
   "cell_type": "code",
   "execution_count": 122,
   "metadata": {},
   "outputs": [
    {
     "data": {
      "text/plain": [
       "{'elapsed_time': 0.2673349380493164,\n",
       " '_response': <Response [200]>,\n",
       " '_datetime_created': datetime.datetime(2020, 7, 9, 0, 29, 45, 408505),\n",
       " '_datetime_updated': datetime.datetime(2020, 7, 9, 0, 29, 45, 408505),\n",
       " '_data': {'marketId': '1.171269892',\n",
       "  'marketName': 'Map 1 Winner',\n",
       "  'totalMatched': 10.12},\n",
       " 'market_id': '1.171269892',\n",
       " 'market_name': 'Map 1 Winner',\n",
       " 'total_matched': 10.12,\n",
       " 'market_start_time': None,\n",
       " 'competition': None,\n",
       " 'event': None,\n",
       " 'event_type': None,\n",
       " 'description': None,\n",
       " 'runners': []}"
      ]
     },
     "execution_count": 122,
     "metadata": {},
     "output_type": "execute_result"
    }
   ],
   "source": [
    "vars(catalogue[0])"
   ]
  },
  {
   "cell_type": "code",
   "execution_count": 123,
   "metadata": {},
   "outputs": [
    {
     "name": "stdout",
     "output_type": "stream",
     "text": [
      "1.171269892\n"
     ]
    }
   ],
   "source": [
    "for r in catalogue:\n",
    "    \n",
    "    print(r.market_id)"
   ]
  },
  {
   "cell_type": "code",
   "execution_count": 124,
   "metadata": {},
   "outputs": [
    {
     "data": {
      "text/plain": [
       "['{\"eventType\":{\"id\":\"1\",\"name\":\"Soccer\"},\"marketCount\":3382}',\n",
       " '{\"eventType\":{\"id\":\"2\",\"name\":\"Tennis\"},\"marketCount\":39}',\n",
       " '{\"eventType\":{\"id\":\"3\",\"name\":\"Golf\"},\"marketCount\":48}',\n",
       " '{\"eventType\":{\"id\":\"4\",\"name\":\"Cricket\"},\"marketCount\":175}',\n",
       " '{\"eventType\":{\"id\":\"5\",\"name\":\"Rugby Union\"},\"marketCount\":31}',\n",
       " '{\"eventType\":{\"id\":\"1477\",\"name\":\"Rugby League\"},\"marketCount\":94}',\n",
       " '{\"eventType\":{\"id\":\"6\",\"name\":\"Boxing\"},\"marketCount\":27}',\n",
       " '{\"eventType\":{\"id\":\"7\",\"name\":\"Horse Racing\"},\"marketCount\":511}',\n",
       " '{\"eventType\":{\"id\":\"8\",\"name\":\"Motor Sport\"},\"marketCount\":12}',\n",
       " '{\"eventType\":{\"id\":\"27454571\",\"name\":\"Esports\"},\"marketCount\":251}',\n",
       " '{\"eventType\":{\"id\":\"28361978\",\"name\":\"Lottery Specials\"},\"marketCount\":1}',\n",
       " '{\"eventType\":{\"id\":\"10\",\"name\":\"Special Bets\"},\"marketCount\":7}',\n",
       " '{\"eventType\":{\"id\":\"998917\",\"name\":\"Volleyball\"},\"marketCount\":1}',\n",
       " '{\"eventType\":{\"id\":\"11\",\"name\":\"Cycling\"},\"marketCount\":7}',\n",
       " '{\"eventType\":{\"id\":\"2152880\",\"name\":\"Gaelic Games\"},\"marketCount\":2}',\n",
       " '{\"eventType\":{\"id\":\"3988\",\"name\":\"Athletics\"},\"marketCount\":1}',\n",
       " '{\"eventType\":{\"id\":\"6422\",\"name\":\"Snooker\"},\"marketCount\":1}',\n",
       " '{\"eventType\":{\"id\":\"7511\",\"name\":\"Baseball\"},\"marketCount\":40}',\n",
       " '{\"eventType\":{\"id\":\"6423\",\"name\":\"American Football\"},\"marketCount\":60}',\n",
       " '{\"eventType\":{\"id\":\"606611\",\"name\":\"Netball\"},\"marketCount\":5}',\n",
       " '{\"eventType\":{\"id\":\"7522\",\"name\":\"Basketball\"},\"marketCount\":113}',\n",
       " '{\"eventType\":{\"id\":\"7524\",\"name\":\"Ice Hockey\"},\"marketCount\":99}',\n",
       " '{\"eventType\":{\"id\":\"61420\",\"name\":\"Australian Rules\"},\"marketCount\":139}',\n",
       " '{\"eventType\":{\"id\":\"3503\",\"name\":\"Darts\"},\"marketCount\":7}',\n",
       " '{\"eventType\":{\"id\":\"26420387\",\"name\":\"Mixed Martial Arts\"},\"marketCount\":78}',\n",
       " '{\"eventType\":{\"id\":\"4339\",\"name\":\"Greyhound Racing\"},\"marketCount\":646}',\n",
       " '{\"eventType\":{\"id\":\"2378961\",\"name\":\"Politics\"},\"marketCount\":132}']"
      ]
     },
     "execution_count": 124,
     "metadata": {},
     "output_type": "execute_result"
    }
   ],
   "source": [
    "[event.json() for event in trading.betting.list_event_types()]"
   ]
  }
 ],
 "metadata": {
  "kernelspec": {
   "display_name": "Python 3",
   "language": "python",
   "name": "python3"
  },
  "language_info": {
   "codemirror_mode": {
    "name": "ipython",
    "version": 3
   },
   "file_extension": ".py",
   "mimetype": "text/x-python",
   "name": "python",
   "nbconvert_exporter": "python",
   "pygments_lexer": "ipython3",
   "version": "3.7.7"
  }
 },
 "nbformat": 4,
 "nbformat_minor": 4
}
