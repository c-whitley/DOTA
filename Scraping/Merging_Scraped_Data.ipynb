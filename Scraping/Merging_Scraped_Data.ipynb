{
 "cells": [
  {
   "cell_type": "code",
   "execution_count": 1,
   "metadata": {},
   "outputs": [],
   "source": [
    "%load_ext autoreload\n",
    "\n",
    "%autoreload 2"
   ]
  },
  {
   "cell_type": "code",
   "execution_count": 2,
   "metadata": {},
   "outputs": [],
   "source": [
    "import numpy as np\n",
    "import pandas as pd\n",
    "import matplotlib.pyplot as plt\n",
    "\n",
    "import os\n",
    "\n",
    "from sklearn.metrics import roc_auc_score, roc_curve, precision_recall_curve\n",
    "\n",
    "from tqdm.notebook import tqdm"
   ]
  },
  {
   "cell_type": "code",
   "execution_count": 3,
   "metadata": {},
   "outputs": [],
   "source": [
    "Data = pd.read_pickle(os.path.join(os.getcwd(), \"merged_data\"))"
   ]
  },
  {
   "cell_type": "code",
   "execution_count": 4,
   "metadata": {},
   "outputs": [
    {
     "data": {
      "text/plain": [
       "(301, 12)"
      ]
     },
     "execution_count": 4,
     "metadata": {},
     "output_type": "execute_result"
    }
   ],
   "source": [
    "Data.shape"
   ]
  },
  {
   "cell_type": "code",
   "execution_count": 5,
   "metadata": {},
   "outputs": [
    {
     "data": {
      "text/plain": [
       "[{'Radiant_win': False,\n",
       "  'radiant_hero_names': ['Centaur Warrunner',\n",
       "   'Silencer',\n",
       "   'Enigma',\n",
       "   'Phantom Lancer',\n",
       "   'Dragon Knight'],\n",
       "  'dire_hero_names': ['Terrorblade',\n",
       "   'Axe',\n",
       "   'Crystal Maiden',\n",
       "   'Brewmaster',\n",
       "   'Mirana']},\n",
       " {'Radiant_win': False,\n",
       "  'radiant_hero_names': ['Magnus', 'Undying', 'Rubick', 'Tiny', 'Luna'],\n",
       "  'dire_hero_names': ['Centaur Warrunner',\n",
       "   'Weaver',\n",
       "   'Silencer',\n",
       "   'Spectre',\n",
       "   'Puck']}]"
      ]
     },
     "execution_count": 5,
     "metadata": {},
     "output_type": "execute_result"
    }
   ],
   "source": [
    "Data.Rounds[0]"
   ]
  },
  {
   "cell_type": "code",
   "execution_count": 6,
   "metadata": {},
   "outputs": [],
   "source": [
    "Data[\"Team_1_win_test\"] = np.random.randint(0,1,Data.shape[0])"
   ]
  },
  {
   "cell_type": "code",
   "execution_count": 7,
   "metadata": {},
   "outputs": [],
   "source": [
    "Data[\"Team_1_win_test\"] = np.random.random(Data.shape[0])"
   ]
  },
  {
   "cell_type": "code",
   "execution_count": 8,
   "metadata": {},
   "outputs": [],
   "source": [
    "def prob_convert(frac_odds):\n",
    "    \n",
    "    num, denom = np.array(frac_odds.split(\"/\"), dtype = int)\n",
    "    \n",
    "    return denom/(num+denom)\n",
    "\n",
    "def dec_convert(frac_odds):\n",
    "    \n",
    "    num, denom = np.array(frac_odds.split(\"/\"), dtype = int)\n",
    "    \n",
    "    return num/denom"
   ]
  },
  {
   "cell_type": "code",
   "execution_count": 9,
   "metadata": {},
   "outputs": [],
   "source": [
    "Data[\"Prob_1\"] = [prob_convert(odds) for odds in Data[\"team_1_odds\"]]\n",
    "Data[\"Prob_2\"] = [prob_convert(odds) for odds in Data[\"team_2_odds\"]]\n",
    "\n",
    "Data[\"Dec_1\"] = [dec_convert(odds) for odds in Data[\"team_1_odds\"]]\n",
    "Data[\"Dec_2\"] = [dec_convert(odds) for odds in Data[\"team_2_odds\"]]"
   ]
  },
  {
   "cell_type": "code",
   "execution_count": 10,
   "metadata": {},
   "outputs": [
    {
     "data": {
      "text/html": [
       "<div>\n",
       "<style scoped>\n",
       "    .dataframe tbody tr th:only-of-type {\n",
       "        vertical-align: middle;\n",
       "    }\n",
       "\n",
       "    .dataframe tbody tr th {\n",
       "        vertical-align: top;\n",
       "    }\n",
       "\n",
       "    .dataframe thead th {\n",
       "        text-align: right;\n",
       "    }\n",
       "</style>\n",
       "<table border=\"1\" class=\"dataframe\">\n",
       "  <thead>\n",
       "    <tr style=\"text-align: right;\">\n",
       "      <th></th>\n",
       "      <th>Score</th>\n",
       "      <th>Team_1</th>\n",
       "      <th>Team_2</th>\n",
       "      <th>team_1_odds</th>\n",
       "      <th>team_2_odds</th>\n",
       "      <th>Prob_1</th>\n",
       "      <th>Prob_2</th>\n",
       "      <th>T1_win</th>\n",
       "      <th>Day</th>\n",
       "      <th>Rounds</th>\n",
       "      <th>dire</th>\n",
       "      <th>radiant</th>\n",
       "      <th>Team_1_win_test</th>\n",
       "      <th>Dec_1</th>\n",
       "      <th>Dec_2</th>\n",
       "    </tr>\n",
       "  </thead>\n",
       "  <tbody>\n",
       "    <tr>\n",
       "      <th>0</th>\n",
       "      <td>0:2</td>\n",
       "      <td>PSG.LGD</td>\n",
       "      <td>Evil Geniuses</td>\n",
       "      <td>61/100</td>\n",
       "      <td>137/100</td>\n",
       "      <td>0.621118</td>\n",
       "      <td>0.421941</td>\n",
       "      <td>0</td>\n",
       "      <td>17</td>\n",
       "      <td>[{'Radiant_win': False, 'radiant_hero_names': ...</td>\n",
       "      <td>Evil Geniuses</td>\n",
       "      <td>PSG.LGD</td>\n",
       "      <td>0.515687</td>\n",
       "      <td>0.61</td>\n",
       "      <td>1.37</td>\n",
       "    </tr>\n",
       "    <tr>\n",
       "      <th>1</th>\n",
       "      <td>0:2</td>\n",
       "      <td>PSG.LGD</td>\n",
       "      <td>Evil Geniuses</td>\n",
       "      <td>27/50</td>\n",
       "      <td>71/50</td>\n",
       "      <td>0.649351</td>\n",
       "      <td>0.413223</td>\n",
       "      <td>0</td>\n",
       "      <td>17</td>\n",
       "      <td>[{'Radiant_win': False, 'radiant_hero_names': ...</td>\n",
       "      <td>Evil Geniuses</td>\n",
       "      <td>PSG.LGD</td>\n",
       "      <td>0.065498</td>\n",
       "      <td>0.54</td>\n",
       "      <td>1.42</td>\n",
       "    </tr>\n",
       "    <tr>\n",
       "      <th>2</th>\n",
       "      <td>0:2</td>\n",
       "      <td>Team Secret</td>\n",
       "      <td>VGJ.Storm</td>\n",
       "      <td>33/100</td>\n",
       "      <td>9/4</td>\n",
       "      <td>0.751880</td>\n",
       "      <td>0.307692</td>\n",
       "      <td>0</td>\n",
       "      <td>16</td>\n",
       "      <td>[{'Radiant_win': True, 'radiant_hero_names': [...</td>\n",
       "      <td>VGJ.Storm</td>\n",
       "      <td>Team Secret</td>\n",
       "      <td>0.360483</td>\n",
       "      <td>0.33</td>\n",
       "      <td>2.25</td>\n",
       "    </tr>\n",
       "    <tr>\n",
       "      <th>3</th>\n",
       "      <td>2:0</td>\n",
       "      <td>Team Liquid</td>\n",
       "      <td>LGD Gaming</td>\n",
       "      <td>79/100</td>\n",
       "      <td>23/25</td>\n",
       "      <td>0.558659</td>\n",
       "      <td>0.520833</td>\n",
       "      <td>1</td>\n",
       "      <td>12</td>\n",
       "      <td>[{'Radiant_win': True, 'radiant_hero_names': [...</td>\n",
       "      <td>LGD Gaming</td>\n",
       "      <td>Team Liquid</td>\n",
       "      <td>0.047769</td>\n",
       "      <td>0.79</td>\n",
       "      <td>0.92</td>\n",
       "    </tr>\n",
       "    <tr>\n",
       "      <th>4</th>\n",
       "      <td>2:1</td>\n",
       "      <td>Newbee</td>\n",
       "      <td>LGD.Forever Young</td>\n",
       "      <td>139/100</td>\n",
       "      <td>14/25</td>\n",
       "      <td>0.418410</td>\n",
       "      <td>0.641026</td>\n",
       "      <td>1</td>\n",
       "      <td>11</td>\n",
       "      <td>[{'Radiant_win': True, 'radiant_hero_names': [...</td>\n",
       "      <td>LGD.Forever Young</td>\n",
       "      <td>Newbee</td>\n",
       "      <td>0.833646</td>\n",
       "      <td>1.39</td>\n",
       "      <td>0.56</td>\n",
       "    </tr>\n",
       "    <tr>\n",
       "      <th>...</th>\n",
       "      <td>...</td>\n",
       "      <td>...</td>\n",
       "      <td>...</td>\n",
       "      <td>...</td>\n",
       "      <td>...</td>\n",
       "      <td>...</td>\n",
       "      <td>...</td>\n",
       "      <td>...</td>\n",
       "      <td>...</td>\n",
       "      <td>...</td>\n",
       "      <td>...</td>\n",
       "      <td>...</td>\n",
       "      <td>...</td>\n",
       "      <td>...</td>\n",
       "      <td>...</td>\n",
       "    </tr>\n",
       "    <tr>\n",
       "      <th>296</th>\n",
       "      <td>0:2</td>\n",
       "      <td>Fnatic</td>\n",
       "      <td>OG</td>\n",
       "      <td>77/100</td>\n",
       "      <td>51/50</td>\n",
       "      <td>0.564972</td>\n",
       "      <td>0.495050</td>\n",
       "      <td>0</td>\n",
       "      <td>4</td>\n",
       "      <td>[{'Radiant_win': False, 'radiant_hero_names': ...</td>\n",
       "      <td>OG</td>\n",
       "      <td>Fnatic</td>\n",
       "      <td>0.298443</td>\n",
       "      <td>0.77</td>\n",
       "      <td>1.02</td>\n",
       "    </tr>\n",
       "    <tr>\n",
       "      <th>297</th>\n",
       "      <td>2:0</td>\n",
       "      <td>Team Secret</td>\n",
       "      <td>Chaos Esports Club</td>\n",
       "      <td>13/100</td>\n",
       "      <td>493/100</td>\n",
       "      <td>0.884956</td>\n",
       "      <td>0.168634</td>\n",
       "      <td>1</td>\n",
       "      <td>4</td>\n",
       "      <td>[{'Radiant_win': True, 'radiant_hero_names': [...</td>\n",
       "      <td>Chaos Esports Club</td>\n",
       "      <td>Team Secret</td>\n",
       "      <td>0.742965</td>\n",
       "      <td>0.13</td>\n",
       "      <td>4.93</td>\n",
       "    </tr>\n",
       "    <tr>\n",
       "      <th>298</th>\n",
       "      <td>1:2</td>\n",
       "      <td>Keen Gaming</td>\n",
       "      <td>Team Liquid</td>\n",
       "      <td>173/100</td>\n",
       "      <td>11/25</td>\n",
       "      <td>0.366300</td>\n",
       "      <td>0.694444</td>\n",
       "      <td>0</td>\n",
       "      <td>4</td>\n",
       "      <td>[{'Radiant_win': True, 'radiant_hero_names': [...</td>\n",
       "      <td>Team Liquid</td>\n",
       "      <td>Keen Gaming</td>\n",
       "      <td>0.881797</td>\n",
       "      <td>1.73</td>\n",
       "      <td>0.44</td>\n",
       "    </tr>\n",
       "    <tr>\n",
       "      <th>299</th>\n",
       "      <td>1:2</td>\n",
       "      <td>Ninjas in Pyjamas</td>\n",
       "      <td>Chaos Esports Club</td>\n",
       "      <td>27/50</td>\n",
       "      <td>36/25</td>\n",
       "      <td>0.649351</td>\n",
       "      <td>0.409836</td>\n",
       "      <td>0</td>\n",
       "      <td>4</td>\n",
       "      <td>[{'Radiant_win': True, 'radiant_hero_names': [...</td>\n",
       "      <td>Chaos Esports Club</td>\n",
       "      <td>Ninjas in Pyjamas</td>\n",
       "      <td>0.812628</td>\n",
       "      <td>0.54</td>\n",
       "      <td>1.44</td>\n",
       "    </tr>\n",
       "    <tr>\n",
       "      <th>300</th>\n",
       "      <td>2:0</td>\n",
       "      <td>Team Secret</td>\n",
       "      <td>Team Empire</td>\n",
       "      <td>3/100</td>\n",
       "      <td>1031/100</td>\n",
       "      <td>0.970874</td>\n",
       "      <td>0.088417</td>\n",
       "      <td>1</td>\n",
       "      <td>4</td>\n",
       "      <td>[{'Radiant_win': True, 'radiant_hero_names': [...</td>\n",
       "      <td>Team Empire</td>\n",
       "      <td>Team Secret</td>\n",
       "      <td>0.352469</td>\n",
       "      <td>0.03</td>\n",
       "      <td>10.31</td>\n",
       "    </tr>\n",
       "  </tbody>\n",
       "</table>\n",
       "<p>301 rows × 15 columns</p>\n",
       "</div>"
      ],
      "text/plain": [
       "    Score             Team_1              Team_2 team_1_odds team_2_odds  \\\n",
       "0     0:2            PSG.LGD       Evil Geniuses      61/100     137/100   \n",
       "1     0:2            PSG.LGD       Evil Geniuses       27/50       71/50   \n",
       "2     0:2        Team Secret           VGJ.Storm      33/100         9/4   \n",
       "3     2:0        Team Liquid          LGD Gaming      79/100       23/25   \n",
       "4     2:1             Newbee   LGD.Forever Young     139/100       14/25   \n",
       "..    ...                ...                 ...         ...         ...   \n",
       "296   0:2             Fnatic                  OG      77/100       51/50   \n",
       "297   2:0        Team Secret  Chaos Esports Club      13/100     493/100   \n",
       "298   1:2        Keen Gaming         Team Liquid     173/100       11/25   \n",
       "299   1:2  Ninjas in Pyjamas  Chaos Esports Club       27/50       36/25   \n",
       "300   2:0        Team Secret         Team Empire       3/100    1031/100   \n",
       "\n",
       "       Prob_1    Prob_2  T1_win  Day  \\\n",
       "0    0.621118  0.421941       0   17   \n",
       "1    0.649351  0.413223       0   17   \n",
       "2    0.751880  0.307692       0   16   \n",
       "3    0.558659  0.520833       1   12   \n",
       "4    0.418410  0.641026       1   11   \n",
       "..        ...       ...     ...  ...   \n",
       "296  0.564972  0.495050       0    4   \n",
       "297  0.884956  0.168634       1    4   \n",
       "298  0.366300  0.694444       0    4   \n",
       "299  0.649351  0.409836       0    4   \n",
       "300  0.970874  0.088417       1    4   \n",
       "\n",
       "                                                Rounds                dire  \\\n",
       "0    [{'Radiant_win': False, 'radiant_hero_names': ...       Evil Geniuses   \n",
       "1    [{'Radiant_win': False, 'radiant_hero_names': ...       Evil Geniuses   \n",
       "2    [{'Radiant_win': True, 'radiant_hero_names': [...           VGJ.Storm   \n",
       "3    [{'Radiant_win': True, 'radiant_hero_names': [...          LGD Gaming   \n",
       "4    [{'Radiant_win': True, 'radiant_hero_names': [...   LGD.Forever Young   \n",
       "..                                                 ...                 ...   \n",
       "296  [{'Radiant_win': False, 'radiant_hero_names': ...                  OG   \n",
       "297  [{'Radiant_win': True, 'radiant_hero_names': [...  Chaos Esports Club   \n",
       "298  [{'Radiant_win': True, 'radiant_hero_names': [...         Team Liquid   \n",
       "299  [{'Radiant_win': True, 'radiant_hero_names': [...  Chaos Esports Club   \n",
       "300  [{'Radiant_win': True, 'radiant_hero_names': [...         Team Empire   \n",
       "\n",
       "               radiant  Team_1_win_test  Dec_1  Dec_2  \n",
       "0              PSG.LGD         0.515687   0.61   1.37  \n",
       "1              PSG.LGD         0.065498   0.54   1.42  \n",
       "2          Team Secret         0.360483   0.33   2.25  \n",
       "3          Team Liquid         0.047769   0.79   0.92  \n",
       "4               Newbee         0.833646   1.39   0.56  \n",
       "..                 ...              ...    ...    ...  \n",
       "296             Fnatic         0.298443   0.77   1.02  \n",
       "297        Team Secret         0.742965   0.13   4.93  \n",
       "298        Keen Gaming         0.881797   1.73   0.44  \n",
       "299  Ninjas in Pyjamas         0.812628   0.54   1.44  \n",
       "300        Team Secret         0.352469   0.03  10.31  \n",
       "\n",
       "[301 rows x 15 columns]"
      ]
     },
     "execution_count": 10,
     "metadata": {},
     "output_type": "execute_result"
    }
   ],
   "source": [
    "Data"
   ]
  },
  {
   "cell_type": "code",
   "execution_count": 11,
   "metadata": {},
   "outputs": [],
   "source": [
    "def roc_plot(y_true, y_pred):\n",
    "    \n",
    "    fpr, tpr, t = roc_curve(y_true, y_pred)\n",
    "    AUC = roc_auc_score(y_true, y_pred)\n",
    "\n",
    "    scores = np.array([np.sqrt(((1-t)**2)+((0-(f))**2)) for f, t in zip(fpr,tpr)])\n",
    "    threshi = np.argmin(scores)\n",
    "\n",
    "    prec, rec, _ = precision_recall_curve(y_true, y_pred)\n",
    "\n",
    "    opt = t[threshi]\n",
    "    \n",
    "    fig, (ax, ax2) = plt.subplots(ncols = 2, figsize = (12, 5))\n",
    "\n",
    "    ax.plot(fpr, tpr)\n",
    "    ax.plot([0,1],[0,1], linestyle = '--')\n",
    "    ax.set_xlabel('False Positive Rate')\n",
    "    ax.set_ylabel('True Positive Rate')\n",
    "    ax.set_title('ECS ROC Curve')\n",
    "    ax.plot([0, fpr[threshi]], [1, tpr[threshi]], linestyle = \"--\")\n",
    "    ax.text(0.8, 0.2, f\"AUC {AUC:.2f}\")\n",
    "\n",
    "    ax2.plot(rec, prec)\n",
    "    ax2.set_xlabel('Recall')\n",
    "    ax2.set_ylabel('Precision')\n",
    "    ax2.set_title('Precision Recall Curve')\n",
    "    \n",
    "    return fig"
   ]
  },
  {
   "cell_type": "code",
   "execution_count": 12,
   "metadata": {},
   "outputs": [
    {
     "data": {
      "image/png": "[encoded data removed]",
      "text/plain": [
       "<Figure size 864x360 with 2 Axes>"
      ]
     },
     "metadata": {
      "needs_background": "light"
     },
     "output_type": "display_data"
    }
   ],
   "source": [
    "roc_plot(Data[\"T1_win\"], Data[\"Prob_1\"]);"
   ]
  },
  {
   "cell_type": "code",
   "execution_count": 223,
   "metadata": {},
   "outputs": [
    {
     "data": {
      "image/png": "[encoded data removed]",
      "text/plain": [
       "<Figure size 864x360 with 2 Axes>"
      ]
     },
     "metadata": {
      "needs_background": "light"
     },
     "output_type": "display_data"
    }
   ],
   "source": [
    "roc_plot(Data[\"T1_win\"], Data[\"Team_1_win_test\"]);"
   ]
  },
  {
   "cell_type": "code",
   "execution_count": 14,
   "metadata": {
    "jupyter": {
     "source_hidden": true
    }
   },
   "outputs": [],
   "source": [
    "def simulate(Data, balance):\n",
    "    \n",
    "    output = []\n",
    "    \n",
    "    for i , row in Data.iterrows():\n",
    "        \n",
    "        match_stats = dict()\n",
    "        match_stats['balance'] = balance\n",
    "\n",
    "        # I think team 1 wins\n",
    "        if row.Team_1_win_test > 0.5:\n",
    "            \n",
    "            print(i)\n",
    "\n",
    "            # Calclate optimal stake using Kelly criterion\n",
    "            frac = ((row.Team_1_win_test*(row.Dec_1+1))-1)/row.Dec_1\n",
    "            \n",
    "            frac = (((row.Dec_1-1)*row.Team_1_win_test)-(1-row.Team_1_win_test))/(row.Dec_1-1)\n",
    "            match_stats['frac'] = frac\n",
    "\n",
    "            stake = frac*balance\n",
    "            match_stats[\"stake\"] = stake\n",
    "            \n",
    "            if frac < 0: \n",
    "                stake = 0\n",
    "                \n",
    "            #if row.Team_1_win_test < 0.4: stake = 0\n",
    "\n",
    "            # team 1 wins\n",
    "            if row.T1_win == 1:\n",
    "\n",
    "                profit = stake * row.Dec_1\n",
    "                balance = balance + stake + profit\n",
    "\n",
    "            # if team 2 wins\n",
    "            else:\n",
    "                balance = balance - stake\n",
    "\n",
    "        # I think team 2 wins\n",
    "        else:\n",
    "            \n",
    "            print(i)\n",
    "\n",
    "            # Calclate optimal stake using Kelly criterion\n",
    "            frac = (((1-row.Team_1_win_test)*(row.Dec_2+1))-1)/row.Dec_2\n",
    "            \n",
    "            frac = (((row.Dec_2-1)*row.Team_1_win_test)-(1-row.Team_1_win_test))/(row.Dec_2-1)\n",
    "            match_stats['frac'] = frac\n",
    "            \n",
    "            stake = frac*balance\n",
    "            match_stats[\"stake\"]\n",
    "            \n",
    "            if frac < 0:\n",
    "                stake = 0\n",
    "                \n",
    "            #if row.Team_1_win_test < 0.4: stake = 0\n",
    "\n",
    "            # team 2 wins\n",
    "            if row.T1_win == 0:\n",
    "\n",
    "                profit = stake * row.Dec_2\n",
    "                balance = balance + stake + profit\n",
    "\n",
    "            # if team 2 wins\n",
    "            else:\n",
    "                balance = balance - stake\n",
    "\n",
    "        balances.append(balance)\n",
    "        \n",
    "    return balances"
   ]
  },
  {
   "cell_type": "code",
   "execution_count": 47,
   "metadata": {},
   "outputs": [],
   "source": [
    "def kelly(b, p):\n",
    "    # Calculate Kelly criterion\n",
    "    \n",
    "    return (p*(b+1)-1)/b\n",
    "\n",
    "\n",
    "\n",
    "def simulate_2(Data, start_balance, kelly_frac):\n",
    "    \n",
    "    balance = start_balance\n",
    "    \n",
    "    balances = []\n",
    "    \n",
    "    n = 0\n",
    "\n",
    "    # Iterate through every match\n",
    "    for i, row in Data.iterrows():\n",
    "        \n",
    "        results = dict()\n",
    "        \n",
    "        # Calculate Kelly criterion for each possible bet\n",
    "        kelly1 = kelly(row.Dec_1, row.Team_1_win_test)\n",
    "        kelly2 = kelly(row.Dec_2, 1-row.Team_1_win_test)\n",
    "        \n",
    "        # Do we have a viable bet?\n",
    "        if np.max([kelly1, kelly2]) > 0:\n",
    "            \n",
    "            bet_choice = np.argmax([kelly1, kelly2])\n",
    "            \n",
    "            # Calculate stake given the best kelly score\n",
    "            stake = balance * np.max([kelly1, kelly2]) * kelly_frac\n",
    "            results[\"stake\"] = stake\n",
    "            \n",
    "            # Stupidly they have to be opposite but whatever\n",
    "            # Did team 1 win and i pick team 1 OR team 2 win and I pic?\n",
    "            if (row.T1_win == 1 and bet_choice == 0) or (row.T1_win == 0 and bet_choice == 1):\n",
    "                \n",
    "                profit = stake*balance\n",
    "                balance = balance + profit\n",
    "\n",
    "            else:\n",
    "                balance = balance - stake\n",
    "                \n",
    "        balances.append(balance)\n",
    "    \n",
    "    return pd.DataFrame([balances]).T"
   ]
  },
  {
   "cell_type": "code",
   "execution_count": 16,
   "metadata": {},
   "outputs": [
    {
     "data": {
      "text/html": [
       "<div>\n",
       "<style scoped>\n",
       "    .dataframe tbody tr th:only-of-type {\n",
       "        vertical-align: middle;\n",
       "    }\n",
       "\n",
       "    .dataframe tbody tr th {\n",
       "        vertical-align: top;\n",
       "    }\n",
       "\n",
       "    .dataframe thead th {\n",
       "        text-align: right;\n",
       "    }\n",
       "</style>\n",
       "<table border=\"1\" class=\"dataframe\">\n",
       "  <thead>\n",
       "    <tr style=\"text-align: right;\">\n",
       "      <th></th>\n",
       "      <th>Score</th>\n",
       "      <th>Team_1</th>\n",
       "      <th>Team_2</th>\n",
       "      <th>team_1_odds</th>\n",
       "      <th>team_2_odds</th>\n",
       "      <th>Prob_1</th>\n",
       "      <th>Prob_2</th>\n",
       "      <th>T1_win</th>\n",
       "      <th>Day</th>\n",
       "      <th>Rounds</th>\n",
       "      <th>dire</th>\n",
       "      <th>radiant</th>\n",
       "      <th>Team_1_win_test</th>\n",
       "      <th>Dec_1</th>\n",
       "      <th>Dec_2</th>\n",
       "    </tr>\n",
       "  </thead>\n",
       "  <tbody>\n",
       "    <tr>\n",
       "      <th>71</th>\n",
       "      <td>1:0</td>\n",
       "      <td>Virtus.pro</td>\n",
       "      <td>Vici Gaming</td>\n",
       "      <td>93/100</td>\n",
       "      <td>43/50</td>\n",
       "      <td>0.518135</td>\n",
       "      <td>0.537634</td>\n",
       "      <td>1</td>\n",
       "      <td>2</td>\n",
       "      <td>[{'Radiant_win': True, 'radiant_hero_names': [...</td>\n",
       "      <td>Vici Gaming</td>\n",
       "      <td>Virtus.pro</td>\n",
       "      <td>0.808226</td>\n",
       "      <td>0.93</td>\n",
       "      <td>0.86</td>\n",
       "    </tr>\n",
       "    <tr>\n",
       "      <th>55</th>\n",
       "      <td>2:0</td>\n",
       "      <td>Virtus.pro</td>\n",
       "      <td>Alliance</td>\n",
       "      <td>11/25</td>\n",
       "      <td>44/25</td>\n",
       "      <td>0.694444</td>\n",
       "      <td>0.362319</td>\n",
       "      <td>1</td>\n",
       "      <td>18</td>\n",
       "      <td>[{'Radiant_win': True, 'radiant_hero_names': [...</td>\n",
       "      <td>Alliance</td>\n",
       "      <td>Virtus.pro</td>\n",
       "      <td>0.753543</td>\n",
       "      <td>0.44</td>\n",
       "      <td>1.76</td>\n",
       "    </tr>\n",
       "    <tr>\n",
       "      <th>121</th>\n",
       "      <td>2:1</td>\n",
       "      <td>OG</td>\n",
       "      <td>Team Random</td>\n",
       "      <td>2/5</td>\n",
       "      <td>103/50</td>\n",
       "      <td>0.714286</td>\n",
       "      <td>0.326797</td>\n",
       "      <td>1</td>\n",
       "      <td>28</td>\n",
       "      <td>[{'Radiant_win': True, 'radiant_hero_names': [...</td>\n",
       "      <td>Team Random</td>\n",
       "      <td>OG</td>\n",
       "      <td>0.438491</td>\n",
       "      <td>0.40</td>\n",
       "      <td>2.06</td>\n",
       "    </tr>\n",
       "  </tbody>\n",
       "</table>\n",
       "</div>"
      ],
      "text/plain": [
       "    Score      Team_1       Team_2 team_1_odds team_2_odds    Prob_1  \\\n",
       "71    1:0  Virtus.pro  Vici Gaming      93/100       43/50  0.518135   \n",
       "55    2:0  Virtus.pro     Alliance       11/25       44/25  0.694444   \n",
       "121   2:1          OG  Team Random         2/5      103/50  0.714286   \n",
       "\n",
       "       Prob_2  T1_win  Day                                             Rounds  \\\n",
       "71   0.537634       1    2  [{'Radiant_win': True, 'radiant_hero_names': [...   \n",
       "55   0.362319       1   18  [{'Radiant_win': True, 'radiant_hero_names': [...   \n",
       "121  0.326797       1   28  [{'Radiant_win': True, 'radiant_hero_names': [...   \n",
       "\n",
       "            dire     radiant  Team_1_win_test  Dec_1  Dec_2  \n",
       "71   Vici Gaming  Virtus.pro         0.808226   0.93   0.86  \n",
       "55      Alliance  Virtus.pro         0.753543   0.44   1.76  \n",
       "121  Team Random          OG         0.438491   0.40   2.06  "
      ]
     },
     "execution_count": 16,
     "metadata": {},
     "output_type": "execute_result"
    }
   ],
   "source": [
    "Data.sample(3)"
   ]
  },
  {
   "cell_type": "code",
   "execution_count": 93,
   "metadata": {},
   "outputs": [],
   "source": [
    "Data[\"Team_1_win_test\"] = np.random.random(Data.shape[0])"
   ]
  },
  {
   "cell_type": "code",
   "execution_count": 209,
   "metadata": {},
   "outputs": [
    {
     "data": {
      "image/png": "[encoded data removed]",
      "text/plain": [
       "<Figure size 864x360 with 2 Axes>"
      ]
     },
     "metadata": {
      "needs_background": "light"
     },
     "output_type": "display_data"
    }
   ],
   "source": [
    "roc_plot(Data[\"T1_win\"], Data[\"Team_1_win_test\"]);"
   ]
  },
  {
   "cell_type": "code",
   "execution_count": 219,
   "metadata": {},
   "outputs": [],
   "source": [
    "Data[\"Team_1_win_test\"] = [np.random.uniform(0,0.75) if result == 0 else np.random.uniform(0.25,1) for result in Data[\"T1_win\"]]\n",
    "#Data[\"Team_1_win_test\"] = Data[\"Team_1_win_test\"] + [np.random.uniform(0,0.75) if result == 0 else np.random.uniform(0.25,1) for result in Data[\"T1_win\"]]\n",
    "\n",
    "Data[\"Team_1_win_test\"] = (Data[\"Team_1_win_test\"]/Data[\"Team_1_win_test\"].max()) + Data[\"Team_1_win_test\"].min()"
   ]
  },
  {
   "cell_type": "code",
   "execution_count": 220,
   "metadata": {},
   "outputs": [
    {
     "data": {
      "text/plain": [
       "<matplotlib.axes._subplots.AxesSubplot at 0x7f8a965c07d0>"
      ]
     },
     "execution_count": 220,
     "metadata": {},
     "output_type": "execute_result"
    },
    {
     "data": {
      "image/png": "[encoded data removed]",
      "text/plain": [
       "<Figure size 432x288 with 1 Axes>"
      ]
     },
     "metadata": {
      "needs_background": "light"
     },
     "output_type": "display_data"
    }
   ],
   "source": [
    "Data.loc[:100,[\"Team_1_win_test\", \"T1_win\"]].plot()"
   ]
  },
  {
   "cell_type": "code",
   "execution_count": 230,
   "metadata": {},
   "outputs": [
    {
     "data": {
      "application/vnd.jupyter.widget-view+json": {
       "model_id": "c51a57062edb4d65bf2c3111ca5975c2",
       "version_major": 2,
       "version_minor": 0
      },
      "text/plain": [
       "HBox(children=(FloatProgress(value=0.0, max=10.0), HTML(value='')))"
      ]
     },
     "metadata": {},
     "output_type": "display_data"
    },
    {
     "name": "stderr",
     "output_type": "stream",
     "text": [
      "/home/conor/miniconda3/envs/PHD/lib/python3.7/site-packages/ipykernel_launcher.py:38: RuntimeWarning: overflow encountered in double_scalars\n",
      "/home/conor/miniconda3/envs/PHD/lib/python3.7/site-packages/ipykernel_launcher.py:42: RuntimeWarning: invalid value encountered in double_scalars\n"
     ]
    },
    {
     "name": "stdout",
     "output_type": "stream",
     "text": [
      "\n"
     ]
    }
   ],
   "source": [
    "results = pd.concat([simulate_2(Data.sample(frac = 1), 1, 0.05) for _ in tqdm(range(10))], axis = 1)"
   ]
  },
  {
   "cell_type": "code",
   "execution_count": 231,
   "metadata": {},
   "outputs": [
    {
     "data": {
      "text/plain": [
       "Text(0.5, 0, 'Bet event number')"
      ]
     },
     "execution_count": 231,
     "metadata": {},
     "output_type": "execute_result"
    },
    {
     "name": "stderr",
     "output_type": "stream",
     "text": [
      "/home/conor/miniconda3/envs/PHD/lib/python3.7/site-packages/matplotlib/ticker.py:2502: RuntimeWarning: overflow encountered in power\n",
      "  ticklocs = b ** decades\n",
      "/home/conor/miniconda3/envs/PHD/lib/python3.7/site-packages/matplotlib/ticker.py:2345: RuntimeWarning: invalid value encountered in double_scalars\n",
      "  return abs(x - np.round(x)) < atol\n",
      "/home/conor/miniconda3/envs/PHD/lib/python3.7/site-packages/matplotlib/ticker.py:1123: RuntimeWarning: invalid value encountered in double_scalars\n",
      "  coeff = round(x / b ** exponent)\n"
     ]
    },
    {
     "data": {
      "image/png": "[encoded data removed]",
      "text/plain": [
       "<Figure size 720x360 with 1 Axes>"
      ]
     },
     "metadata": {
      "needs_background": "light"
     },
     "output_type": "display_data"
    }
   ],
   "source": [
    "ax = results.iloc[:,:].plot(logy = True, figsize = (10,5), legend = False)\n",
    "ax.set_ylabel(\"Balance\")\n",
    "ax.set_xlabel(\"Bet event number\")\n",
    "#results.T.mean().plot(logy = True)"
   ]
  },
  {
   "cell_type": "code",
   "execution_count": 24,
   "metadata": {
    "jupyter": {
     "source_hidden": true
    }
   },
   "outputs": [],
   "source": [
    "def simulate(Data, balance):\n",
    "    \n",
    "    balance = balance\n",
    "    balances = []\n",
    "    \n",
    "    for i , row in Data.iterrows():\n",
    "\n",
    "        # I think team 1 wins\n",
    "        if row.Team_1_win_test > 0.5:\n",
    "\n",
    "            # Calclate optimal stake using Kelly criterion\n",
    "            frac = ((row.Team_1_win_test*(row.Dec_1+1))-1)/row.Dec_1\n",
    "            \n",
    "            frac = (((row.Dec_1-1)*row.Team_1_win_test)-(1-row.Team_1_win_test))/row.Dec_1-1\n",
    "\n",
    "            stake = frac*balance\n",
    "\n",
    "            if frac < 0: \n",
    "                stake = 0\n",
    "                \n",
    "            #if row.Team_1_win_test < 0.4: stake = 0\n",
    "\n",
    "            # team 1 wins\n",
    "            if row.T1_win == 1:\n",
    "\n",
    "                profit = stake * row.Dec_1\n",
    "                balance = balance + stake + profit\n",
    "\n",
    "            # if team 2 wins\n",
    "            else:\n",
    "                balance = balance - stake\n",
    "\n",
    "        # I think team 2 wins\n",
    "        else:\n",
    "\n",
    "            # Calclate optimal stake using Kelly criterion\n",
    "            frac = (((1-row.Team_1_win_test)*(row.Dec_2+1))-1)/row.Dec_2\n",
    "            \n",
    "            frac = (((row.Dec_2-1)*row.Team_1_win_test)-(1-row.Team_1_win_test))/row.Dec_2-1\n",
    "            \n",
    "            stake = frac*balance\n",
    "\n",
    "            if frac < 0:\n",
    "                stake = 0\n",
    "                \n",
    "            #if row.Team_1_win_test < 0.4: stake = 0\n",
    "\n",
    "            # team 2 wins\n",
    "            if row.T1_win == 0:\n",
    "\n",
    "                profit = stake * row.Dec_2\n",
    "                balance = balance + stake + profit\n",
    "\n",
    "            # if team 2 wins\n",
    "            else:\n",
    "                balance = balance - stake\n",
    "\n",
    "        balances.append(balance)\n",
    "        \n",
    "    return balances"
   ]
  },
  {
   "cell_type": "code",
   "execution_count": 25,
   "metadata": {},
   "outputs": [],
   "source": [
    "Data[\"Team_1_win_test\"] = Data[\"T1_win\"]"
   ]
  },
  {
   "cell_type": "code",
   "execution_count": 26,
   "metadata": {},
   "outputs": [
    {
     "data": {
      "text/html": [
       "<div>\n",
       "<style scoped>\n",
       "    .dataframe tbody tr th:only-of-type {\n",
       "        vertical-align: middle;\n",
       "    }\n",
       "\n",
       "    .dataframe tbody tr th {\n",
       "        vertical-align: top;\n",
       "    }\n",
       "\n",
       "    .dataframe thead th {\n",
       "        text-align: right;\n",
       "    }\n",
       "</style>\n",
       "<table border=\"1\" class=\"dataframe\">\n",
       "  <thead>\n",
       "    <tr style=\"text-align: right;\">\n",
       "      <th></th>\n",
       "      <th>Score</th>\n",
       "      <th>Team_1</th>\n",
       "      <th>Team_2</th>\n",
       "      <th>team_1_odds</th>\n",
       "      <th>team_2_odds</th>\n",
       "      <th>Prob_1</th>\n",
       "      <th>Prob_2</th>\n",
       "      <th>T1_win</th>\n",
       "      <th>Day</th>\n",
       "      <th>Rounds</th>\n",
       "      <th>dire</th>\n",
       "      <th>radiant</th>\n",
       "      <th>Team_1_win_test</th>\n",
       "      <th>Dec_1</th>\n",
       "      <th>Dec_2</th>\n",
       "    </tr>\n",
       "  </thead>\n",
       "  <tbody>\n",
       "    <tr>\n",
       "      <th>0</th>\n",
       "      <td>0:2</td>\n",
       "      <td>PSG.LGD</td>\n",
       "      <td>Evil Geniuses</td>\n",
       "      <td>61/100</td>\n",
       "      <td>137/100</td>\n",
       "      <td>0.621118</td>\n",
       "      <td>0.421941</td>\n",
       "      <td>0</td>\n",
       "      <td>17</td>\n",
       "      <td>[{'Radiant_win': False, 'radiant_hero_names': ...</td>\n",
       "      <td>Evil Geniuses</td>\n",
       "      <td>PSG.LGD</td>\n",
       "      <td>0</td>\n",
       "      <td>0.61</td>\n",
       "      <td>1.37</td>\n",
       "    </tr>\n",
       "    <tr>\n",
       "      <th>1</th>\n",
       "      <td>0:2</td>\n",
       "      <td>PSG.LGD</td>\n",
       "      <td>Evil Geniuses</td>\n",
       "      <td>27/50</td>\n",
       "      <td>71/50</td>\n",
       "      <td>0.649351</td>\n",
       "      <td>0.413223</td>\n",
       "      <td>0</td>\n",
       "      <td>17</td>\n",
       "      <td>[{'Radiant_win': False, 'radiant_hero_names': ...</td>\n",
       "      <td>Evil Geniuses</td>\n",
       "      <td>PSG.LGD</td>\n",
       "      <td>0</td>\n",
       "      <td>0.54</td>\n",
       "      <td>1.42</td>\n",
       "    </tr>\n",
       "    <tr>\n",
       "      <th>2</th>\n",
       "      <td>0:2</td>\n",
       "      <td>Team Secret</td>\n",
       "      <td>VGJ.Storm</td>\n",
       "      <td>33/100</td>\n",
       "      <td>9/4</td>\n",
       "      <td>0.751880</td>\n",
       "      <td>0.307692</td>\n",
       "      <td>0</td>\n",
       "      <td>16</td>\n",
       "      <td>[{'Radiant_win': True, 'radiant_hero_names': [...</td>\n",
       "      <td>VGJ.Storm</td>\n",
       "      <td>Team Secret</td>\n",
       "      <td>0</td>\n",
       "      <td>0.33</td>\n",
       "      <td>2.25</td>\n",
       "    </tr>\n",
       "    <tr>\n",
       "      <th>3</th>\n",
       "      <td>2:0</td>\n",
       "      <td>Team Liquid</td>\n",
       "      <td>LGD Gaming</td>\n",
       "      <td>79/100</td>\n",
       "      <td>23/25</td>\n",
       "      <td>0.558659</td>\n",
       "      <td>0.520833</td>\n",
       "      <td>1</td>\n",
       "      <td>12</td>\n",
       "      <td>[{'Radiant_win': True, 'radiant_hero_names': [...</td>\n",
       "      <td>LGD Gaming</td>\n",
       "      <td>Team Liquid</td>\n",
       "      <td>1</td>\n",
       "      <td>0.79</td>\n",
       "      <td>0.92</td>\n",
       "    </tr>\n",
       "    <tr>\n",
       "      <th>4</th>\n",
       "      <td>2:1</td>\n",
       "      <td>Newbee</td>\n",
       "      <td>LGD.Forever Young</td>\n",
       "      <td>139/100</td>\n",
       "      <td>14/25</td>\n",
       "      <td>0.418410</td>\n",
       "      <td>0.641026</td>\n",
       "      <td>1</td>\n",
       "      <td>11</td>\n",
       "      <td>[{'Radiant_win': True, 'radiant_hero_names': [...</td>\n",
       "      <td>LGD.Forever Young</td>\n",
       "      <td>Newbee</td>\n",
       "      <td>1</td>\n",
       "      <td>1.39</td>\n",
       "      <td>0.56</td>\n",
       "    </tr>\n",
       "    <tr>\n",
       "      <th>...</th>\n",
       "      <td>...</td>\n",
       "      <td>...</td>\n",
       "      <td>...</td>\n",
       "      <td>...</td>\n",
       "      <td>...</td>\n",
       "      <td>...</td>\n",
       "      <td>...</td>\n",
       "      <td>...</td>\n",
       "      <td>...</td>\n",
       "      <td>...</td>\n",
       "      <td>...</td>\n",
       "      <td>...</td>\n",
       "      <td>...</td>\n",
       "      <td>...</td>\n",
       "      <td>...</td>\n",
       "    </tr>\n",
       "    <tr>\n",
       "      <th>296</th>\n",
       "      <td>0:2</td>\n",
       "      <td>Fnatic</td>\n",
       "      <td>OG</td>\n",
       "      <td>77/100</td>\n",
       "      <td>51/50</td>\n",
       "      <td>0.564972</td>\n",
       "      <td>0.495050</td>\n",
       "      <td>0</td>\n",
       "      <td>4</td>\n",
       "      <td>[{'Radiant_win': False, 'radiant_hero_names': ...</td>\n",
       "      <td>OG</td>\n",
       "      <td>Fnatic</td>\n",
       "      <td>0</td>\n",
       "      <td>0.77</td>\n",
       "      <td>1.02</td>\n",
       "    </tr>\n",
       "    <tr>\n",
       "      <th>297</th>\n",
       "      <td>2:0</td>\n",
       "      <td>Team Secret</td>\n",
       "      <td>Chaos Esports Club</td>\n",
       "      <td>13/100</td>\n",
       "      <td>493/100</td>\n",
       "      <td>0.884956</td>\n",
       "      <td>0.168634</td>\n",
       "      <td>1</td>\n",
       "      <td>4</td>\n",
       "      <td>[{'Radiant_win': True, 'radiant_hero_names': [...</td>\n",
       "      <td>Chaos Esports Club</td>\n",
       "      <td>Team Secret</td>\n",
       "      <td>1</td>\n",
       "      <td>0.13</td>\n",
       "      <td>4.93</td>\n",
       "    </tr>\n",
       "    <tr>\n",
       "      <th>298</th>\n",
       "      <td>1:2</td>\n",
       "      <td>Keen Gaming</td>\n",
       "      <td>Team Liquid</td>\n",
       "      <td>173/100</td>\n",
       "      <td>11/25</td>\n",
       "      <td>0.366300</td>\n",
       "      <td>0.694444</td>\n",
       "      <td>0</td>\n",
       "      <td>4</td>\n",
       "      <td>[{'Radiant_win': True, 'radiant_hero_names': [...</td>\n",
       "      <td>Team Liquid</td>\n",
       "      <td>Keen Gaming</td>\n",
       "      <td>0</td>\n",
       "      <td>1.73</td>\n",
       "      <td>0.44</td>\n",
       "    </tr>\n",
       "    <tr>\n",
       "      <th>299</th>\n",
       "      <td>1:2</td>\n",
       "      <td>Ninjas in Pyjamas</td>\n",
       "      <td>Chaos Esports Club</td>\n",
       "      <td>27/50</td>\n",
       "      <td>36/25</td>\n",
       "      <td>0.649351</td>\n",
       "      <td>0.409836</td>\n",
       "      <td>0</td>\n",
       "      <td>4</td>\n",
       "      <td>[{'Radiant_win': True, 'radiant_hero_names': [...</td>\n",
       "      <td>Chaos Esports Club</td>\n",
       "      <td>Ninjas in Pyjamas</td>\n",
       "      <td>0</td>\n",
       "      <td>0.54</td>\n",
       "      <td>1.44</td>\n",
       "    </tr>\n",
       "    <tr>\n",
       "      <th>300</th>\n",
       "      <td>2:0</td>\n",
       "      <td>Team Secret</td>\n",
       "      <td>Team Empire</td>\n",
       "      <td>3/100</td>\n",
       "      <td>1031/100</td>\n",
       "      <td>0.970874</td>\n",
       "      <td>0.088417</td>\n",
       "      <td>1</td>\n",
       "      <td>4</td>\n",
       "      <td>[{'Radiant_win': True, 'radiant_hero_names': [...</td>\n",
       "      <td>Team Empire</td>\n",
       "      <td>Team Secret</td>\n",
       "      <td>1</td>\n",
       "      <td>0.03</td>\n",
       "      <td>10.31</td>\n",
       "    </tr>\n",
       "  </tbody>\n",
       "</table>\n",
       "<p>301 rows × 15 columns</p>\n",
       "</div>"
      ],
      "text/plain": [
       "    Score             Team_1              Team_2 team_1_odds team_2_odds  \\\n",
       "0     0:2            PSG.LGD       Evil Geniuses      61/100     137/100   \n",
       "1     0:2            PSG.LGD       Evil Geniuses       27/50       71/50   \n",
       "2     0:2        Team Secret           VGJ.Storm      33/100         9/4   \n",
       "3     2:0        Team Liquid          LGD Gaming      79/100       23/25   \n",
       "4     2:1             Newbee   LGD.Forever Young     139/100       14/25   \n",
       "..    ...                ...                 ...         ...         ...   \n",
       "296   0:2             Fnatic                  OG      77/100       51/50   \n",
       "297   2:0        Team Secret  Chaos Esports Club      13/100     493/100   \n",
       "298   1:2        Keen Gaming         Team Liquid     173/100       11/25   \n",
       "299   1:2  Ninjas in Pyjamas  Chaos Esports Club       27/50       36/25   \n",
       "300   2:0        Team Secret         Team Empire       3/100    1031/100   \n",
       "\n",
       "       Prob_1    Prob_2  T1_win  Day  \\\n",
       "0    0.621118  0.421941       0   17   \n",
       "1    0.649351  0.413223       0   17   \n",
       "2    0.751880  0.307692       0   16   \n",
       "3    0.558659  0.520833       1   12   \n",
       "4    0.418410  0.641026       1   11   \n",
       "..        ...       ...     ...  ...   \n",
       "296  0.564972  0.495050       0    4   \n",
       "297  0.884956  0.168634       1    4   \n",
       "298  0.366300  0.694444       0    4   \n",
       "299  0.649351  0.409836       0    4   \n",
       "300  0.970874  0.088417       1    4   \n",
       "\n",
       "                                                Rounds                dire  \\\n",
       "0    [{'Radiant_win': False, 'radiant_hero_names': ...       Evil Geniuses   \n",
       "1    [{'Radiant_win': False, 'radiant_hero_names': ...       Evil Geniuses   \n",
       "2    [{'Radiant_win': True, 'radiant_hero_names': [...           VGJ.Storm   \n",
       "3    [{'Radiant_win': True, 'radiant_hero_names': [...          LGD Gaming   \n",
       "4    [{'Radiant_win': True, 'radiant_hero_names': [...   LGD.Forever Young   \n",
       "..                                                 ...                 ...   \n",
       "296  [{'Radiant_win': False, 'radiant_hero_names': ...                  OG   \n",
       "297  [{'Radiant_win': True, 'radiant_hero_names': [...  Chaos Esports Club   \n",
       "298  [{'Radiant_win': True, 'radiant_hero_names': [...         Team Liquid   \n",
       "299  [{'Radiant_win': True, 'radiant_hero_names': [...  Chaos Esports Club   \n",
       "300  [{'Radiant_win': True, 'radiant_hero_names': [...         Team Empire   \n",
       "\n",
       "               radiant  Team_1_win_test  Dec_1  Dec_2  \n",
       "0              PSG.LGD                0   0.61   1.37  \n",
       "1              PSG.LGD                0   0.54   1.42  \n",
       "2          Team Secret                0   0.33   2.25  \n",
       "3          Team Liquid                1   0.79   0.92  \n",
       "4               Newbee                1   1.39   0.56  \n",
       "..                 ...              ...    ...    ...  \n",
       "296             Fnatic                0   0.77   1.02  \n",
       "297        Team Secret                1   0.13   4.93  \n",
       "298        Keen Gaming                0   1.73   0.44  \n",
       "299  Ninjas in Pyjamas                0   0.54   1.44  \n",
       "300        Team Secret                1   0.03  10.31  \n",
       "\n",
       "[301 rows x 15 columns]"
      ]
     },
     "execution_count": 26,
     "metadata": {},
     "output_type": "execute_result"
    }
   ],
   "source": [
    "Data"
   ]
  },
  {
   "cell_type": "code",
   "execution_count": 27,
   "metadata": {},
   "outputs": [],
   "source": [
    "results = pd.DataFrame([simulate(Data.sample(frac = 1), balance = 1) for _ in range(10)]).T"
   ]
  },
  {
   "cell_type": "code",
   "execution_count": 28,
   "metadata": {},
   "outputs": [
    {
     "data": {
      "text/plain": [
       "<matplotlib.axes._subplots.AxesSubplot at 0x7f8aa6c4a4d0>"
      ]
     },
     "execution_count": 28,
     "metadata": {},
     "output_type": "execute_result"
    },
    {
     "data": {
      "image/png": "[encoded data removed]",
      "text/plain": [
       "<Figure size 432x288 with 1 Axes>"
      ]
     },
     "metadata": {
      "needs_background": "light"
     },
     "output_type": "display_data"
    }
   ],
   "source": [
    "results.iloc[:10].plot()"
   ]
  },
  {
   "cell_type": "code",
   "execution_count": 29,
   "metadata": {},
   "outputs": [
    {
     "data": {
      "text/plain": [
       "<matplotlib.axes._subplots.AxesSubplot at 0x7f8aa6d9dc90>"
      ]
     },
     "execution_count": 29,
     "metadata": {},
     "output_type": "execute_result"
    },
    {
     "data": {
      "image/png": "[encoded data removed]",
      "text/plain": [
       "<Figure size 432x288 with 1 Axes>"
      ]
     },
     "metadata": {
      "needs_background": "light"
     },
     "output_type": "display_data"
    }
   ],
   "source": [
    "results.iloc[:10].plot()"
   ]
  },
  {
   "cell_type": "code",
   "execution_count": 30,
   "metadata": {},
   "outputs": [],
   "source": [
    "from tqdm.notebook import tqdm"
   ]
  },
  {
   "cell_type": "code",
   "execution_count": 31,
   "metadata": {},
   "outputs": [
    {
     "data": {
      "application/vnd.jupyter.widget-view+json": {
       "model_id": "9272d73deb8740bb858e587ac2a498b9",
       "version_major": 2,
       "version_minor": 0
      },
      "text/plain": [
       "HBox(children=(FloatProgress(value=0.0, max=10.0), HTML(value='')))"
      ]
     },
     "metadata": {},
     "output_type": "display_data"
    },
    {
     "name": "stdout",
     "output_type": "stream",
     "text": [
      "\n"
     ]
    }
   ],
   "source": [
    "results = dict()\n",
    "\n",
    "for thresh in tqdm(np.arange(0,1,0.1)):\n",
    "    \n",
    "    Data[\"Team_1_win_test\"] = [np.random.uniform(0,0.5) if result == 0 else np.random.uniform(0.5,1) for result in Data[\"T1_win\"]]\n",
    "    \n",
    "    # Add noise to the destimate\n",
    "    Data[\"Team_1_win_test\"] = Data[\"Team_1_win_test\"] + np.random.uniform(0, thresh,len(Data[\"T1_win\"]))\n",
    "    \n",
    "    # Run the simulation a few times with shuffled events\n",
    "    results[thresh] = pd.DataFrame([simulate(Data.sample(frac = 1), balance = 1000) for _ in range(20)])\n",
    "    \n",
    "results = pd.concat(results, names = [\"Thresh\"])"
   ]
  },
  {
   "cell_type": "code",
   "execution_count": 32,
   "metadata": {},
   "outputs": [
    {
     "data": {
      "text/plain": [
       "<matplotlib.axes._subplots.AxesSubplot at 0x7f8aa6ea6050>"
      ]
     },
     "execution_count": 32,
     "metadata": {},
     "output_type": "execute_result"
    },
    {
     "data": {
      "image/png": "[encoded data removed]",
      "text/plain": [
       "<Figure size 432x288 with 1 Axes>"
      ]
     },
     "metadata": {
      "needs_background": "light"
     },
     "output_type": "display_data"
    }
   ],
   "source": [
    "results.groupby(\"Thresh\").mean().T.plot(logy = True)"
   ]
  },
  {
   "cell_type": "code",
   "execution_count": 33,
   "metadata": {},
   "outputs": [
    {
     "data": {
      "text/plain": [
       "<matplotlib.axes._subplots.AxesSubplot at 0x7f8aa600d850>"
      ]
     },
     "execution_count": 33,
     "metadata": {},
     "output_type": "execute_result"
    },
    {
     "data": {
      "image/png": "[encoded data removed]",
      "text/plain": [
       "<Figure size 432x288 with 1 Axes>"
      ]
     },
     "metadata": {
      "needs_background": "light"
     },
     "output_type": "display_data"
    }
   ],
   "source": [
    "results.query(\"Thresh == 0.9\").groupby(\"Thresh\").mean().T.plot(logy = True)"
   ]
  },
  {
   "cell_type": "code",
   "execution_count": 34,
   "metadata": {},
   "outputs": [
    {
     "data": {
      "text/plain": [
       "<matplotlib.axes._subplots.AxesSubplot at 0x7f8aa60aeb90>"
      ]
     },
     "execution_count": 34,
     "metadata": {},
     "output_type": "execute_result"
    },
    {
     "data": {
      "image/png": "[encoded data removed]",
      "text/plain": [
       "<Figure size 432x288 with 1 Axes>"
      ]
     },
     "metadata": {
      "needs_background": "light"
     },
     "output_type": "display_data"
    }
   ],
   "source": [
    "results.query(\"Thresh == 0.2\").groupby(\"Thresh\").mean().T.plot(logy = True)"
   ]
  },
  {
   "cell_type": "code",
   "execution_count": 35,
   "metadata": {},
   "outputs": [
    {
     "data": {
      "text/plain": [
       "array([[<matplotlib.axes._subplots.AxesSubplot object at 0x7f8aa5f59c50>]],\n",
       "      dtype=object)"
      ]
     },
     "execution_count": 35,
     "metadata": {},
     "output_type": "execute_result"
    },
    {
     "data": {
      "image/png": "[encoded data removed]",
      "text/plain": [
       "<Figure size 432x288 with 1 Axes>"
      ]
     },
     "metadata": {
      "needs_background": "light"
     },
     "output_type": "display_data"
    }
   ],
   "source": [
    "results.query(\"Thresh == 0.9\").groupby(\"Thresh\").mean().T.hist()"
   ]
  }
 ],
 "metadata": {
  "kernelspec": {
   "display_name": "Python 3",
   "language": "python",
   "name": "python3"
  },
  "language_info": {
   "codemirror_mode": {
    "name": "ipython",
    "version": 3
   },
   "file_extension": ".py",
   "mimetype": "text/x-python",
   "name": "python",
   "nbconvert_exporter": "python",
   "pygments_lexer": "ipython3",
   "version": "3.7.7"
  }
 },
 "nbformat": 4,
 "nbformat_minor": 4
}
