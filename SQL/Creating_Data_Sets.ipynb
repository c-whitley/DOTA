{
 "metadata": {
  "language_info": {
   "codemirror_mode": {
    "name": "ipython",
    "version": 3
   },
   "file_extension": ".py",
   "mimetype": "text/x-python",
   "name": "python",
   "nbconvert_exporter": "python",
   "pygments_lexer": "ipython3",
   "version": "3.8.0-final"
  },
  "orig_nbformat": 2,
  "kernelspec": {
   "name": "python_defaultSpec_1598119797156",
   "display_name": "Python 3.8.3 64-bit ('PHD': conda)"
  }
 },
 "nbformat": 4,
 "nbformat_minor": 2,
 "cells": [
  {
   "cell_type": "code",
   "execution_count": 1,
   "metadata": {
    "tags": []
   },
   "outputs": [],
   "source": [
    "import numpy as np \n",
    "import pandas as pd \n",
    "import matplotlib.pyplot as plt\n",
    "\n",
    "import os\n",
    "import glob\n",
    "\n",
    "from tqdm.notebook import tqdm\n",
    "\n",
    "from pprint import pprint\n",
    "\n",
    "from Connecting_DB import *"
   ]
  },
  {
   "cell_type": "markdown",
   "metadata": {},
   "source": [
    "# Matches"
   ]
  },
  {
   "cell_type": "code",
   "execution_count": 3,
   "metadata": {
    "tags": []
   },
   "outputs": [
    {
     "output_type": "stream",
     "name": "stdout",
     "text": "Connection to MySQL DB successful\n"
    },
    {
     "output_type": "display_data",
     "data": {
      "text/plain": "HBox(children=(FloatProgress(value=0.0, max=1000.0), HTML(value='')))",
      "application/vnd.jupyter.widget-view+json": {
       "version_major": 2,
       "version_minor": 0,
       "model_id": "15c790826ccc4091b2f38323be0e1fbc"
      }
     },
     "metadata": {}
    }
   ],
   "source": [
    "connection = create_connection(\"localhost\", \"root\", \"svcSypBrMB1CG8qiM\", \"test1\")\n",
    "\n",
    "for i, file_name in enumerate(tqdm(glob.glob(\"/mnt/c/Users/conor/Google Drive/dota_output_files/*.pkl\"))):\n",
    "\n",
    "    if i != 0:\n",
    "        #break\n",
    "        pass\n",
    "\n",
    "    try:\n",
    "        dataset = pickle_read(file_name)\n",
    "    except:\n",
    "        continue\n",
    "\n",
    "    for j, match in enumerate(dataset.values()):\n",
    "\n",
    "        if j != 0:\n",
    "            #break\n",
    "            pass\n",
    "        \n",
    "        try:\n",
    "            match_id=match[\"match_id\"]\n",
    "            start_time=match[\"start_time\"]\n",
    "            duration=match[\"duration\"]\n",
    "            radiant_win=match[\"radiant_win\"]\n",
    "\n",
    "        except:\n",
    "            continue\n",
    "\n",
    "        insert =f\"\"\"\n",
    "                INSERT INTO\n",
    "                `matches` (`match_id`, `start_time`, `duration`, `radiant_win`)\n",
    "                VALUES\n",
    "                ('{match_id}', '{start_time}', '{duration}', '{radiant_win}');\n",
    "                \"\"\"\n",
    "\n",
    "        #print(insert)\n",
    "\n",
    "        execute_query(connection, insert)  "
   ]
  },
  {
   "cell_type": "markdown",
   "metadata": {},
   "source": [
    "# Player Matches"
   ]
  },
  {
   "cell_type": "code",
   "execution_count": 24,
   "metadata": {
    "tags": []
   },
   "outputs": [
    {
     "output_type": "stream",
     "name": "stdout",
     "text": "Connection to MySQL DB successful\n"
    },
    {
     "output_type": "display_data",
     "data": {
      "text/plain": "HBox(children=(FloatProgress(value=0.0, max=1000.0), HTML(value='')))",
      "application/vnd.jupyter.widget-view+json": {
       "version_major": 2,
       "version_minor": 0,
       "model_id": "4de07330d0a242ffb7ffbc6f3c1d0272"
      }
     },
     "metadata": {}
    },
    {
     "output_type": "stream",
     "name": "stdout",
     "text": "\n"
    },
    {
     "output_type": "error",
     "ename": "KeyError",
     "evalue": "'players'",
     "traceback": [
      "\u001b[0;31m---------------------------------------------------------------------------\u001b[0m",
      "\u001b[0;31mKeyError\u001b[0m                                  Traceback (most recent call last)",
      "\u001b[0;32m<ipython-input-24-28b1b713fbc1>\u001b[0m in \u001b[0;36m<module>\u001b[0;34m\u001b[0m\n\u001b[1;32m     18\u001b[0m             \u001b[0;32mpass\u001b[0m\u001b[0;34m\u001b[0m\u001b[0;34m\u001b[0m\u001b[0m\n\u001b[1;32m     19\u001b[0m \u001b[0;34m\u001b[0m\u001b[0m\n\u001b[0;32m---> 20\u001b[0;31m         \u001b[0;32mfor\u001b[0m \u001b[0mk\u001b[0m\u001b[0;34m,\u001b[0m \u001b[0mplayer\u001b[0m \u001b[0;32min\u001b[0m \u001b[0menumerate\u001b[0m\u001b[0;34m(\u001b[0m\u001b[0mmatch\u001b[0m\u001b[0;34m[\u001b[0m\u001b[0;34m\"players\"\u001b[0m\u001b[0;34m]\u001b[0m\u001b[0;34m)\u001b[0m\u001b[0;34m:\u001b[0m\u001b[0;34m\u001b[0m\u001b[0;34m\u001b[0m\u001b[0m\n\u001b[0m\u001b[1;32m     21\u001b[0m \u001b[0;34m\u001b[0m\u001b[0m\n\u001b[1;32m     22\u001b[0m             \u001b[0;32mif\u001b[0m \u001b[0mk\u001b[0m\u001b[0;34m!=\u001b[0m\u001b[0;36m0\u001b[0m\u001b[0;34m:\u001b[0m\u001b[0;34m\u001b[0m\u001b[0;34m\u001b[0m\u001b[0m\n",
      "\u001b[0;31mKeyError\u001b[0m: 'players'"
     ]
    }
   ],
   "source": [
    "connection = create_connection(\"localhost\", \"root\", \"svcSypBrMB1CG8qiM\", \"test1\")\n",
    "\n",
    "for i, file_name in enumerate(tqdm(glob.glob(\"/mnt/c/Users/conor/Google Drive/dota_output_files/*.pkl\"))):\n",
    "\n",
    "    if i != 0:\n",
    "        #break\n",
    "        pass\n",
    "\n",
    "    try:\n",
    "        dataset = pickle_read(file_name)\n",
    "    except:\n",
    "        continue\n",
    "\n",
    "    for j, match in enumerate(dataset.values()):\n",
    "\n",
    "        if j!=0:\n",
    "            #break\n",
    "            pass\n",
    "\n",
    "        try:\n",
    "            players = match[\"players\"]\n",
    "\n",
    "        except:\n",
    "            continue \n",
    "\n",
    "        for k, player in enumerate(players):\n",
    "\n",
    "            if k!=0:\n",
    "                #break\n",
    "                pass\n",
    "            \n",
    "            try:\n",
    "                match_id=match[\"match_id\"]\n",
    "                player_id=player[\"account_id\"]\n",
    "                hero_id=player[\"hero_id\"]\n",
    "                player_team=player[\"isRadiant\"]\n",
    "                player_team = 1 if player_team==True else 0\n",
    "\n",
    "            except:\n",
    "                continue\n",
    "\n",
    "            insert =f\"\"\"\n",
    "                    INSERT INTO\n",
    "                    `playermatch` (`match_id`, `player_id`, `hero_id`, `player_team`)\n",
    "                    VALUES\n",
    "                    ('{match_id}', '{player_id}', '{hero_id}', '{player_team}');\n",
    "                    \"\"\"\n",
    "\n",
    "            execute_query(connection, insert, verbose=False)\n",
    "\n",
    "connection.close()"
   ]
  },
  {
   "cell_type": "code",
   "execution_count": 18,
   "metadata": {},
   "outputs": [],
   "source": [
    "connection.close()"
   ]
  },
  {
   "cell_type": "markdown",
   "metadata": {},
   "source": [
    "# Heroes"
   ]
  },
  {
   "cell_type": "code",
   "execution_count": null,
   "metadata": {},
   "outputs": [],
   "source": [
    "connection = create_connection(\"localhost\", \"root\", \"svcSypBrMB1CG8qiM\", \"test1\")\n",
    "\n",
    "for i, file_name in enumerate(tqdm(glob.glob(\"/mnt/c/Users/conor/Google Drive/dota_output_files/*.pkl\"))):\n",
    "\n",
    "    if i != 0:\n",
    "        break\n",
    "        pass\n",
    "\n",
    "    try:\n",
    "        dataset = pickle_read(file_name)\n",
    "    except:\n",
    "        continue\n",
    "\n",
    "    for j, match in enumerate(dataset.values()):\n",
    "\n",
    "        if j!=0:\n",
    "            break\n",
    "            pass\n",
    "\n",
    "        for k, player in enumerate(match[\"players\"]):\n",
    "\n",
    "            if k!=0:\n",
    "                break\n",
    "                pass\n",
    "            \n",
    "            try:\n",
    "                match_id=match[\"match_id\"]\n",
    "                player_id=player[\"account_id\"]\n",
    "                hero_id=player[\"hero_id\"]\n",
    "\n",
    "            except:\n",
    "                continue\n",
    "\n",
    "            insert =f\"\"\"\n",
    "                    INSERT INTO\n",
    "                    `playermatch` (`match_id`, `player_id`, `hero_id`)\n",
    "                    VALUES\n",
    "                    ('{match_id}', '{player_id}', '{hero_id}');\n",
    "                    \"\"\"\n",
    "\n",
    "            execute_query(connection, insert, verbose=True)\n",
    "\n",
    "connection.close()"
   ]
  }
 ]
}