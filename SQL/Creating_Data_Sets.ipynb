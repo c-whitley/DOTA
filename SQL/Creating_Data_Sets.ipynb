{
 "metadata": {
  "language_info": {
   "codemirror_mode": {
    "name": "ipython",
    "version": 3
   },
   "file_extension": ".py",
   "mimetype": "text/x-python",
   "name": "python",
   "nbconvert_exporter": "python",
   "pygments_lexer": "ipython3",
   "version": "3.8.0-final"
  },
  "orig_nbformat": 2,
  "kernelspec": {
   "name": "python_defaultSpec_1599614079632",
   "display_name": "Python 3.8.3 64-bit ('PHD': conda)"
  }
 },
 "nbformat": 4,
 "nbformat_minor": 2,
 "cells": [
  {
   "cell_type": "code",
   "execution_count": 1,
   "metadata": {
    "tags": []
   },
   "outputs": [],
   "source": [
    "import numpy as np \n",
    "import pandas as pd \n",
    "import matplotlib.pyplot as plt\n",
    "\n",
    "import os\n",
    "import glob\n",
    "import multiprocessing\n",
    "\n",
    "from tqdm.notebook import tqdm\n",
    "\n",
    "from pprint import pprint\n",
    "\n",
    "from Connecting_DB import *"
   ]
  },
  {
   "cell_type": "markdown",
   "metadata": {},
   "source": [
    "# Matches"
   ]
  },
  {
   "cell_type": "code",
   "execution_count": 3,
   "metadata": {
    "tags": []
   },
   "outputs": [
    {
     "output_type": "stream",
     "name": "stdout",
     "text": "Connection to MySQL DB successful\n"
    },
    {
     "output_type": "display_data",
     "data": {
      "text/plain": "HBox(children=(FloatProgress(value=0.0, max=1000.0), HTML(value='')))",
      "application/vnd.jupyter.widget-view+json": {
       "version_major": 2,
       "version_minor": 0,
       "model_id": "1df5afc0c5404d1e804e913cce0c8f26"
      }
     },
     "metadata": {}
    },
    {
     "output_type": "stream",
     "name": "stdout",
     "text": "\n"
    }
   ],
   "source": [
    "connection = create_connection(\"localhost\", \"root\", \"svcSypBrMB1CG8qiM\", \"test1\")\n",
    "\n",
    "for i, file_name in enumerate(tqdm(glob.glob(\"/mnt/c/Users/conor/Google Drive/dota_output_files/*.pkl\"))):\n",
    "\n",
    "    if i != 0:\n",
    "        #break\n",
    "        pass\n",
    "\n",
    "    try:\n",
    "        dataset = pickle_read(file_name)\n",
    "    except:\n",
    "        continue\n",
    "\n",
    "    for j, match in enumerate(dataset.values()):\n",
    "\n",
    "        if j != 0:\n",
    "            #break\n",
    "            pass\n",
    "        \n",
    "        try:\n",
    "            match_id=match[\"match_id\"]\n",
    "            start_time=match[\"start_time\"]\n",
    "            duration=match[\"duration\"]\n",
    "            radiant_win=match[\"radiant_win\"]\n",
    "            radiant_win = 1 if radiant_win==True else 0\n",
    "\n",
    "            insert =f\"\"\"\n",
    "            INSERT INTO\n",
    "            `matches` (`match_id`, `start_time`, `duration`, `radiant_win`)\n",
    "            VALUES\n",
    "            ('{match_id}', '{start_time}', '{duration}', '{radiant_win}');\n",
    "            \"\"\"\n",
    "\n",
    "            execute_query(connection, insert)  \n",
    "            \n",
    "        except:\n",
    "            continue"
   ]
  },
  {
   "cell_type": "markdown",
   "metadata": {},
   "source": [
    "# Player Matches"
   ]
  },
  {
   "cell_type": "code",
   "execution_count": 5,
   "metadata": {},
   "outputs": [],
   "source": [
    "def upload_playermatch_data(file_name):\n",
    "\n",
    "    connection = create_connection(\"localhost\", \"root\", \"svcSypBrMB1CG8qiM\", \"test1\")\n",
    "\n",
    "    try:\n",
    "        dataset = pickle_read(file_name)\n",
    "    except:\n",
    "        pass\n",
    "\n",
    "    for j, match in enumerate(dataset.values()):\n",
    "\n",
    "        if j!=0:\n",
    "            #break\n",
    "            pass\n",
    "\n",
    "        try:\n",
    "            players = match[\"players\"]\n",
    "\n",
    "        except:\n",
    "            pass \n",
    "\n",
    "        for k, player in enumerate(players):\n",
    "\n",
    "            if k!=0:\n",
    "                #break\n",
    "                pass\n",
    "            \n",
    "            try:\n",
    "                match_id=match[\"match_id\"]\n",
    "                player_id=player[\"account_id\"]\n",
    "                hero_id=player[\"hero_id\"]\n",
    "                player_team=player[\"isRadiant\"]\n",
    "                player_team = 1 if player_team==True else 0\n",
    "\n",
    "                insert =f\"\"\"\n",
    "                INSERT INTO\n",
    "                `playermatch` (`match_id`, `player_id`, `hero_id`, `player_team`)\n",
    "                VALUES\n",
    "                ('{match_id}', '{player_id}', '{hero_id}', '{player_team}');\n",
    "                \"\"\"\n",
    "\n",
    "                execute_query(connection, insert, verbose=False)\n",
    "\n",
    "            except:\n",
    "                pass\n",
    "\n",
    "    connection.close()\n",
    "\n"
   ]
  },
  {
   "cell_type": "code",
   "execution_count": 6,
   "metadata": {
    "tags": []
   },
   "outputs": [
    {
     "output_type": "stream",
     "name": "stdout",
     "text": "Connection to MySQL DB successfulConnection to MySQL DB successfulConnection to MySQL DB successfulConnection to MySQL DB successfulConnection to MySQL DB successfulConnection to MySQL DB successfulConnection to MySQL DB successfulConnection to MySQL DB successfulConnection to MySQL DB successfulConnection to MySQL DB successful\n\n\nConnection to MySQL DB successful\n\n\n\n\n\n\n\nConnection to MySQL DB successful\nConnection to MySQL DB successful\nConnection to MySQL DB successful\nConnection to MySQL DB successful\nConnection to MySQL DB successful\nConnection to MySQL DB successful\nConnection to MySQL DB successful\nConnection to MySQL DB successful\nConnection to MySQL DB successfulConnection to MySQL DB successful\n\nConnection to MySQL DB successfulConnection to MySQL DB successful\n\nConnection to MySQL DB successful\nConnection to MySQL DB successful\nConnection to MySQL DB successful\nConnection to MySQL DB successful\nConnection to MySQL DB successful\nConnection to MySQL DB successful\nConnection to MySQL DB successfulConnection to MySQL DB successfulConnection to MySQL DB successful\n\nConnection to MySQL DB successful\n\nConnection to MySQL DB successfulConnection to MySQL DB successfulConnection to MySQL DB successful\n\n\nConnection to MySQL DB successful\nConnection to MySQL DB successful\nConnection to MySQL DB successful\nConnection to MySQL DB successful\nConnection to MySQL DB successful\nConnection to MySQL DB successful\nConnection to MySQL DB successful\nConnection to MySQL DB successful\nConnection to MySQL DB successful\nConnection to MySQL DB successfulConnection to MySQL DB successful\n\nConnection to MySQL DB successful\nConnection to MySQL DB successful\nConnection to MySQL DB successful\nConnection to MySQL DB successful\nConnection to MySQL DB successful\nConnection to MySQL DB successful\nConnection to MySQL DB successful\nConnection to MySQL DB successful\nConnection to MySQL DB successful\nConnection to MySQL DB successful\nConnection to MySQL DB successful\nConnection to MySQL DB successful\nConnection to MySQL DB successful\nConnection to MySQL DB successful\nConnection to MySQL DB successful\nConnection to MySQL DB successful\nConnection to MySQL DB successful\nConnection to MySQL DB successful\nConnection to MySQL DB successful\nConnection to MySQL DB successful\nConnection to MySQL DB successful\nConnection to MySQL DB successful\nConnection to MySQL DB successful\nConnection to MySQL DB successfulConnection to MySQL DB successful\n\nConnection to MySQL DB successful\nConnection to MySQL DB successful\nConnection to MySQL DB successful\nConnection to MySQL DB successful\nConnection to MySQL DB successful\nConnection to MySQL DB successful\nConnection to MySQL DB successfulConnection to MySQL DB successful\n\nConnection to MySQL DB successful\nConnection to MySQL DB successful\nConnection to MySQL DB successful\nConnection to MySQL DB successful\nConnection to MySQL DB successful\nConnection to MySQL DB successful\nConnection to MySQL DB successful\nConnection to MySQL DB successful\nConnection to MySQL DB successful\nConnection to MySQL DB successful\nConnection to MySQL DB successful\nConnection to MySQL DB successful\nConnection to MySQL DB successful\nConnection to MySQL DB successful\nConnection to MySQL DB successful\nConnection to MySQL DB successful\nConnection to MySQL DB successful\nConnection to MySQL DB successful\nConnection to MySQL DB successful\nConnection to MySQL DB successful\nConnection to MySQL DB successful\nConnection to MySQL DB successful\nConnection to MySQL DB successful\nConnection to MySQL DB successful\nConnection to MySQL DB successful\nConnection to MySQL DB successful\nConnection to MySQL DB successful\nConnection to MySQL DB successful\nConnection to MySQL DB successful\nConnection to MySQL DB successful\nConnection to MySQL DB successful\nConnection to MySQL DB successful\nConnection to MySQL DB successful\nConnection to MySQL DB successful\nConnection to MySQL DB successful\nConnection to MySQL DB successful\nConnection to MySQL DB successful\nConnection to MySQL DB successful\nConnection to MySQL DB successful\nConnection to MySQL DB successful\nConnection to MySQL DB successful\nConnection to MySQL DB successful\nConnection to MySQL DB successful\nConnection to MySQL DB successful\nConnection to MySQL DB successful\nConnection to MySQL DB successful\nConnection to MySQL DB successful\nConnection to MySQL DB successful\nConnection to MySQL DB successful\nConnection to MySQL DB successful\nConnection to MySQL DB successful\nConnection to MySQL DB successful\nConnection to MySQL DB successful\nConnection to MySQL DB successful\nConnection to MySQL DB successful\nConnection to MySQL DB successful\nConnection to MySQL DB successful\nConnection to MySQL DB successful\nConnection to MySQL DB successful\nConnection to MySQL DB successful\nConnection to MySQL DB successful\nConnection to MySQL DB successful\nConnection to MySQL DB successful\nConnection to MySQL DB successful\nConnection to MySQL DB successful\nConnection to MySQL DB successful\nConnection to MySQL DB successful\nConnection to MySQL DB successful\nConnection to MySQL DB successful\nConnection to MySQL DB successful\nConnection to MySQL DB successful\nConnection to MySQL DB successful\nConnection to MySQL DB successful\nConnection to MySQL DB successful\nConnection to MySQL DB successful\nConnection to MySQL DB successful\nConnection to MySQL DB successful\nConnection to MySQL DB successful\nConnection to MySQL DB successful\nConnection to MySQL DB successful\nConnection to MySQL DB successful\nConnection to MySQL DB successful\nConnection to MySQL DB successful\nConnection to MySQL DB successful\nConnection to MySQL DB successful\nConnection to MySQL DB successful\nConnection to MySQL DB successful\nConnection to MySQL DB successful\nConnection to MySQL DB successful\nConnection to MySQL DB successful\nConnection to MySQL DB successful\nConnection to MySQL DB successful\nConnection to MySQL DB successful\nConnection to MySQL DB successful\nConnection to MySQL DB successful\nConnection to MySQL DB successful\nConnection to MySQL DB successful\nConnection to MySQL DB successful\nConnection to MySQL DB successfulConnection to MySQL DB successful\n\nConnection to MySQL DB successful\nConnection to MySQL DB successful\nConnection to MySQL DB successful\nConnection to MySQL DB successful\nConnection to MySQL DB successful\nConnection to MySQL DB successful\nConnection to MySQL DB successful\nConnection to MySQL DB successful\nConnection to MySQL DB successful\nConnection to MySQL DB successful\nConnection to MySQL DB successful\nConnection to MySQL DB successful\nConnection to MySQL DB successful\nConnection to MySQL DB successful\nConnection to MySQL DB successful\nConnection to MySQL DB successful\nConnection to MySQL DB successful\nConnection to MySQL DB successful\nConnection to MySQL DB successful\nConnection to MySQL DB successful\nConnection to MySQL DB successful\nConnection to MySQL DB successful\nConnection to MySQL DB successful\nConnection to MySQL DB successful\nConnection to MySQL DB successful\nConnection to MySQL DB successful\nConnection to MySQL DB successful\nConnection to MySQL DB successful\nConnection to MySQL DB successful\nConnection to MySQL DB successful\nConnection to MySQL DB successful\nConnection to MySQL DB successful\nConnection to MySQL DB successful\nConnection to MySQL DB successful\nConnection to MySQL DB successful\nConnection to MySQL DB successful\nConnection to MySQL DB successful\nConnection to MySQL DB successful\nConnection to MySQL DB successful\nConnection to MySQL DB successful\nConnection to MySQL DB successful\nConnection to MySQL DB successful\nConnection to MySQL DB successful\nConnection to MySQL DB successful\nConnection to MySQL DB successful\nConnection to MySQL DB successful\nConnection to MySQL DB successful\nConnection to MySQL DB successful\nConnection to MySQL DB successful\nConnection to MySQL DB successful\nConnection to MySQL DB successful\nConnection to MySQL DB successful\nConnection to MySQL DB successful\nConnection to MySQL DB successful\nConnection to MySQL DB successful\nConnection to MySQL DB successful\nConnection to MySQL DB successful\nConnection to MySQL DB successful\nConnection to MySQL DB successful\nConnection to MySQL DB successful\nConnection to MySQL DB successful\nConnection to MySQL DB successful\nConnection to MySQL DB successful\nConnection to MySQL DB successful\nConnection to MySQL DB successful\nConnection to MySQL DB successful\nConnection to MySQL DB successful\nConnection to MySQL DB successful\nConnection to MySQL DB successful\nConnection to MySQL DB successful\nConnection to MySQL DB successful\nConnection to MySQL DB successful\nConnection to MySQL DB successful\nConnection to MySQL DB successful\nConnection to MySQL DB successful\nConnection to MySQL DB successful\nConnection to MySQL DB successful\nConnection to MySQL DB successful\nConnection to MySQL DB successful\nConnection to MySQL DB successful\nConnection to MySQL DB successful\nConnection to MySQL DB successful\nConnection to MySQL DB successful\nConnection to MySQL DB successful\nConnection to MySQL DB successful\nConnection to MySQL DB successful\nConnection to MySQL DB successful\nConnection to MySQL DB successful\nConnection to MySQL DB successful\nConnection to MySQL DB successful\nConnection to MySQL DB successful\nConnection to MySQL DB successfulConnection to MySQL DB successful\n\nConnection to MySQL DB successful\nConnection to MySQL DB successful\nConnection to MySQL DB successful\nConnection to MySQL DB successful\nConnection to MySQL DB successful\nConnection to MySQL DB successful\nConnection to MySQL DB successful\nConnection to MySQL DB successful\nConnection to MySQL DB successful\nConnection to MySQL DB successful\nConnection to MySQL DB successful\nConnection to MySQL DB successful\nConnection to MySQL DB successful\nConnection to MySQL DB successful\nConnection to MySQL DB successful\nConnection to MySQL DB successful\nConnection to MySQL DB successful\nConnection to MySQL DB successful\nConnection to MySQL DB successful\nConnection to MySQL DB successful\nConnection to MySQL DB successful\nConnection to MySQL DB successful\nConnection to MySQL DB successful\nConnection to MySQL DB successful\nConnection to MySQL DB successful\nConnection to MySQL DB successful\n\nConnection to MySQL DB successful\nConnection to MySQL DB successful\nConnection to MySQL DB successful\nConnection to MySQL DB successful\nConnection to MySQL DB successful\nConnection to MySQL DB successful\nConnection to MySQL DB successful\nConnection to MySQL DB successful\nConnection to MySQL DB successful\nConnection to MySQL DB successful\nConnection to MySQL DB successful\nConnection to MySQL DB successful\nConnection to MySQL DB successful\nConnection to MySQL DB successful\nConnection to MySQL DB successful\nConnection to MySQL DB successful\nConnection to MySQL DB successful\nConnection to MySQL DB successful\nConnection to MySQL DB successful\nConnection to MySQL DB successful\nConnection to MySQL DB successful\nConnection to MySQL DB successful\nConnection to MySQL DB successful\nConnection to MySQL DB successful\nConnection to MySQL DB successful\nConnection to MySQL DB successful\nConnection to MySQL DB successful\nConnection to MySQL DB successful\nConnection to MySQL DB successful\nConnection to MySQL DB successful\nConnection to MySQL DB successful\nConnection to MySQL DB successful\nConnection to MySQL DB successful\nConnection to MySQL DB successful\nConnection to MySQL DB successful\nConnection to MySQL DB successful\nConnection to MySQL DB successful\nConnection to MySQL DB successful\nConnection to MySQL DB successful\nConnection to MySQL DB successful\nConnection to MySQL DB successful\nConnection to MySQL DB successful\nConnection to MySQL DB successful\nConnection to MySQL DB successful\nConnection to MySQL DB successful\nConnection to MySQL DB successful\nConnection to MySQL DB successful\nConnection to MySQL DB successful\nConnection to MySQL DB successful\nConnection to MySQL DB successful\nConnection to MySQL DB successful\nConnection to MySQL DB successful\nConnection to MySQL DB successful\nConnection to MySQL DB successful\nConnection to MySQL DB successful\nConnection to MySQL DB successful\nConnection to MySQL DB successful\nConnection to MySQL DB successful\nConnection to MySQL DB successful\nConnection to MySQL DB successful\nConnection to MySQL DB successful\nConnection to MySQL DB successful\nConnection to MySQL DB successful\nConnection to MySQL DB successful\nConnection to MySQL DB successful\nConnection to MySQL DB successful\nConnection to MySQL DB successful\nConnection to MySQL DB successful\nConnection to MySQL DB successful\nConnection to MySQL DB successful\nConnection to MySQL DB successful\nConnection to MySQL DB successful\nConnection to MySQL DB successful\nConnection to MySQL DB successful\nConnection to MySQL DB successful\nConnection to MySQL DB successful\nConnection to MySQL DB successful\nConnection to MySQL DB successful\nConnection to MySQL DB successful\nConnection to MySQL DB successful\nConnection to MySQL DB successful\nConnection to MySQL DB successful\nConnection to MySQL DB successful\nConnection to MySQL DB successful\nConnection to MySQL DB successful\nConnection to MySQL DB successful\nConnection to MySQL DB successful\nConnection to MySQL DB successful\nConnection to MySQL DB successful\nConnection to MySQL DB successful\nConnection to MySQL DB successful\nConnection to MySQL DB successful\nConnection to MySQL DB successful\nConnection to MySQL DB successful\nConnection to MySQL DB successful\nConnection to MySQL DB successful\nConnection to MySQL DB successful\nConnection to MySQL DB successful\nConnection to MySQL DB successful\nConnection to MySQL DB successful\nConnection to MySQL DB successful\nConnection to MySQL DB successful\nConnection to MySQL DB successful\nConnection to MySQL DB successful\nConnection to MySQL DB successful\nConnection to MySQL DB successful\nConnection to MySQL DB successful\nConnection to MySQL DB successful\nConnection to MySQL DB successful\nConnection to MySQL DB successful\nConnection to MySQL DB successful\nConnection to MySQL DB successful\nConnection to MySQL DB successful\nConnection to MySQL DB successful\nConnection to MySQL DB successful\nConnection to MySQL DB successful\nConnection to MySQL DB successful\nConnection to MySQL DB successful\nConnection to MySQL DB successful\nConnection to MySQL DB successful\nConnection to MySQL DB successful\nConnection to MySQL DB successful\nConnection to MySQL DB successful\nConnection to MySQL DB successful\nConnection to MySQL DB successful\nConnection to MySQL DB successful\nConnection to MySQL DB successful\nConnection to MySQL DB successful\nConnection to MySQL DB successful\nConnection to MySQL DB successful\nConnection to MySQL DB successful\nConnection to MySQL DB successful\nConnection to MySQL DB successful\nConnection to MySQL DB successful\nConnection to MySQL DB successful\nConnection to MySQL DB successful\nConnection to MySQL DB successful\nConnection to MySQL DB successful\nConnection to MySQL DB successful\nConnection to MySQL DB successful\nConnection to MySQL DB successful\nConnection to MySQL DB successful\nConnection to MySQL DB successful\nConnection to MySQL DB successful\nConnection to MySQL DB successful\nConnection to MySQL DB successful\nConnection to MySQL DB successful\nConnection to MySQL DB successful\nConnection to MySQL DB successful\nConnection to MySQL DB successful\nConnection to MySQL DB successful\nConnection to MySQL DB successful\nConnection to MySQL DB successful\nConnection to MySQL DB successful\nConnection to MySQL DB successful\nConnection to MySQL DB successful\nConnection to MySQL DB successful\nConnection to MySQL DB successful\nConnection to MySQL DB successful\nConnection to MySQL DB successful\nConnection to MySQL DB successful\nConnection to MySQL DB successful\nConnection to MySQL DB successful\nConnection to MySQL DB successful\nConnection to MySQL DB successful\nConnection to MySQL DB successful\nConnection to MySQL DB successful\nConnection to MySQL DB successful\nConnection to MySQL DB successful\nConnection to MySQL DB successful\nConnection to MySQL DB successful\nConnection to MySQL DB successful\nConnection to MySQL DB successful\nConnection to MySQL DB successful\nConnection to MySQL DB successful\nConnection to MySQL DB successful\nConnection to MySQL DB successful\nConnection to MySQL DB successful\nConnection to MySQL DB successful\nConnection to MySQL DB successful\nConnection to MySQL DB successful\nConnection to MySQL DB successful\nConnection to MySQL DB successful\nConnection to MySQL DB successful\nConnection to MySQL DB successful\nConnection to MySQL DB successful\nConnection to MySQL DB successful\nConnection to MySQL DB successful\nConnection to MySQL DB successful\nConnection to MySQL DB successful\nConnection to MySQL DB successful\nConnection to MySQL DB successful\nConnection to MySQL DB successful\nConnection to MySQL DB successful\nConnection to MySQL DB successful\nConnection to MySQL DB successful\nConnection to MySQL DB successful\nConnection to MySQL DB successful\nConnection to MySQL DB successful\nConnection to MySQL DB successful\nConnection to MySQL DB successful\nConnection to MySQL DB successful\nConnection to MySQL DB successful\nConnection to MySQL DB successful\nConnection to MySQL DB successful\nConnection to MySQL DB successful\nConnection to MySQL DB successful\nConnection to MySQL DB successful\nConnection to MySQL DB successful\nConnection to MySQL DB successful\nConnection to MySQL DB successful\nConnection to MySQL DB successful\nConnection to MySQL DB successful\nConnection to MySQL DB successfulConnection to MySQL DB successful\n\nConnection to MySQL DB successful\nConnection to MySQL DB successful\nConnection to MySQL DB successful\nConnection to MySQL DB successful\nConnection to MySQL DB successful\nConnection to MySQL DB successful\nConnection to MySQL DB successful\nConnection to MySQL DB successful\nConnection to MySQL DB successful\nConnection to MySQL DB successful\nConnection to MySQL DB successful\nConnection to MySQL DB successful\nConnection to MySQL DB successful\nConnection to MySQL DB successful\nConnection to MySQL DB successful\nConnection to MySQL DB successful\nConnection to MySQL DB successful\nConnection to MySQL DB successful\nConnection to MySQL DB successful\nConnection to MySQL DB successful\nConnection to MySQL DB successful\nConnection to MySQL DB successful\nConnection to MySQL DB successful\nConnection to MySQL DB successful\nConnection to MySQL DB successful\nConnection to MySQL DB successful\nConnection to MySQL DB successful\nConnection to MySQL DB successful\nConnection to MySQL DB successful\nConnection to MySQL DB successful\nConnection to MySQL DB successful\nConnection to MySQL DB successful\nConnection to MySQL DB successful\nConnection to MySQL DB successful\nConnection to MySQL DB successful\nConnection to MySQL DB successful\nConnection to MySQL DB successful\nConnection to MySQL DB successful\nConnection to MySQL DB successful\nConnection to MySQL DB successful\nConnection to MySQL DB successful\nConnection to MySQL DB successful\nConnection to MySQL DB successful\nConnection to MySQL DB successful\nConnection to MySQL DB successful\nConnection to MySQL DB successful\nConnection to MySQL DB successful\nConnection to MySQL DB successful\nConnection to MySQL DB successful\nConnection to MySQL DB successful\nConnection to MySQL DB successful\nConnection to MySQL DB successful\nConnection to MySQL DB successful\nConnection to MySQL DB successful\nConnection to MySQL DB successful\nConnection to MySQL DB successful\nConnection to MySQL DB successful\nConnection to MySQL DB successful\nConnection to MySQL DB successful\nConnection to MySQL DB successful\nConnection to MySQL DB successful\nConnection to MySQL DB successful\nConnection to MySQL DB successful\nConnection to MySQL DB successful\nConnection to MySQL DB successful\nConnection to MySQL DB successful\nConnection to MySQL DB successful\nConnection to MySQL DB successful\nConnection to MySQL DB successful\nConnection to MySQL DB successful\nConnection to MySQL DB successful\nConnection to MySQL DB successful\nConnection to MySQL DB successful\nConnection to MySQL DB successful\nConnection to MySQL DB successful\nConnection to MySQL DB successful\nConnection to MySQL DB successful\nConnection to MySQL DB successful\nConnection to MySQL DB successful\nConnection to MySQL DB successful\nConnection to MySQL DB successful\nConnection to MySQL DB successful\nConnection to MySQL DB successful\nConnection to MySQL DB successful\nConnection to MySQL DB successful\nConnection to MySQL DB successful\nConnection to MySQL DB successful\nConnection to MySQL DB successful\nConnection to MySQL DB successful\nConnection to MySQL DB successful\nConnection to MySQL DB successful\nConnection to MySQL DB successful\nConnection to MySQL DB successful\nConnection to MySQL DB successful\nConnection to MySQL DB successful\nConnection to MySQL DB successful\nConnection to MySQL DB successful\nConnection to MySQL DB successful\nConnection to MySQL DB successful\nConnection to MySQL DB successful\nConnection to MySQL DB successful\nConnection to MySQL DB successful\nConnection to MySQL DB successful\nConnection to MySQL DB successful\nConnection to MySQL DB successful\nConnection to MySQL DB successful\nConnection to MySQL DB successful\nConnection to MySQL DB successful\nConnection to MySQL DB successful\nConnection to MySQL DB successful\nConnection to MySQL DB successful\nConnection to MySQL DB successful\nConnection to MySQL DB successful\nConnection to MySQL DB successful\nConnection to MySQL DB successful\nConnection to MySQL DB successful\nConnection to MySQL DB successful\nConnection to MySQL DB successful\nConnection to MySQL DB successful\nConnection to MySQL DB successful\nConnection to MySQL DB successful\nConnection to MySQL DB successful\nConnection to MySQL DB successful\nConnection to MySQL DB successful\nConnection to MySQL DB successful\nConnection to MySQL DB successful\nConnection to MySQL DB successful\nConnection to MySQL DB successful\nConnection to MySQL DB successful\nConnection to MySQL DB successful\nConnection to MySQL DB successful\nConnection to MySQL DB successful\nConnection to MySQL DB successful\nConnection to MySQL DB successful\nConnection to MySQL DB successful\nConnection to MySQL DB successful\nConnection to MySQL DB successful\nConnection to MySQL DB successful\nConnection to MySQL DB successful\nConnection to MySQL DB successful\nConnection to MySQL DB successful\nConnection to MySQL DB successful\nConnection to MySQL DB successful\nConnection to MySQL DB successful\nConnection to MySQL DB successful\nConnection to MySQL DB successful\nConnection to MySQL DB successful\nConnection to MySQL DB successful\nConnection to MySQL DB successful\nConnection to MySQL DB successful\nConnection to MySQL DB successful\nConnection to MySQL DB successful\nConnection to MySQL DB successful\nConnection to MySQL DB successfulConnection to MySQL DB successful\n\nConnection to MySQL DB successful\nConnection to MySQL DB successful\nConnection to MySQL DB successful\nConnection to MySQL DB successful\nConnection to MySQL DB successful\nConnection to MySQL DB successful\nConnection to MySQL DB successful\nConnection to MySQL DB successful\nConnection to MySQL DB successful\nConnection to MySQL DB successful\nConnection to MySQL DB successful\nConnection to MySQL DB successful\nConnection to MySQL DB successful\nConnection to MySQL DB successful\nConnection to MySQL DB successful\nConnection to MySQL DB successful\nConnection to MySQL DB successful\nConnection to MySQL DB successful\nConnection to MySQL DB successful\nConnection to MySQL DB successful\nConnection to MySQL DB successful\nConnection to MySQL DB successful\nConnection to MySQL DB successful\nConnection to MySQL DB successful\nConnection to MySQL DB successful\nConnection to MySQL DB successful\nConnection to MySQL DB successful\nConnection to MySQL DB successful\nConnection to MySQL DB successful\nConnection to MySQL DB successful\nConnection to MySQL DB successful\nConnection to MySQL DB successful\nConnection to MySQL DB successful\nConnection to MySQL DB successful\nConnection to MySQL DB successful\nConnection to MySQL DB successful\nConnection to MySQL DB successful\nConnection to MySQL DB successful\nConnection to MySQL DB successful\nConnection to MySQL DB successful\nConnection to MySQL DB successful\nConnection to MySQL DB successful\nConnection to MySQL DB successful\nConnection to MySQL DB successful\nConnection to MySQL DB successful\nConnection to MySQL DB successful\nConnection to MySQL DB successful\nConnection to MySQL DB successful\nConnection to MySQL DB successful\nConnection to MySQL DB successful\nConnection to MySQL DB successful\nConnection to MySQL DB successful\nConnection to MySQL DB successful\nConnection to MySQL DB successful\nConnection to MySQL DB successful\nConnection to MySQL DB successful\nConnection to MySQL DB successful\nConnection to MySQL DB successful\nConnection to MySQL DB successful\nConnection to MySQL DB successful\nConnection to MySQL DB successful\nConnection to MySQL DB successful\nConnection to MySQL DB successful\nConnection to MySQL DB successful\nConnection to MySQL DB successful\nConnection to MySQL DB successful\nConnection to MySQL DB successful\nConnection to MySQL DB successful\nConnection to MySQL DB successful\nConnection to MySQL DB successful\nConnection to MySQL DB successful\nConnection to MySQL DB successful\nConnection to MySQL DB successful\nConnection to MySQL DB successful\nConnection to MySQL DB successful\nConnection to MySQL DB successful\nConnection to MySQL DB successful\nConnection to MySQL DB successfulConnection to MySQL DB successful\n\nConnection to MySQL DB successful\nConnection to MySQL DB successful\nConnection to MySQL DB successful\nConnection to MySQL DB successful\nConnection to MySQL DB successful\nConnection to MySQL DB successful\nConnection to MySQL DB successful\nConnection to MySQL DB successful\nConnection to MySQL DB successful\nConnection to MySQL DB successful\nConnection to MySQL DB successful\nConnection to MySQL DB successful\nConnection to MySQL DB successful\nConnection to MySQL DB successful\nConnection to MySQL DB successful\nConnection to MySQL DB successful\nConnection to MySQL DB successful\nConnection to MySQL DB successful\nConnection to MySQL DB successful\nConnection to MySQL DB successful\nConnection to MySQL DB successful\nConnection to MySQL DB successful\nConnection to MySQL DB successful\nConnection to MySQL DB successful\nConnection to MySQL DB successful\nConnection to MySQL DB successful\nConnection to MySQL DB successful\nConnection to MySQL DB successful\nConnection to MySQL DB successful\nConnection to MySQL DB successful\nConnection to MySQL DB successful\nConnection to MySQL DB successful\nConnection to MySQL DB successful\nConnection to MySQL DB successful\nConnection to MySQL DB successful\nConnection to MySQL DB successful\nConnection to MySQL DB successful\nConnection to MySQL DB successful\nConnection to MySQL DB successful\nConnection to MySQL DB successful\nConnection to MySQL DB successful\nConnection to MySQL DB successful\nConnection to MySQL DB successful\nConnection to MySQL DB successful\nConnection to MySQL DB successful\nConnection to MySQL DB successful\nConnection to MySQL DB successful\nConnection to MySQL DB successful\nConnection to MySQL DB successful\nConnection to MySQL DB successful\nConnection to MySQL DB successful\nConnection to MySQL DB successful\nConnection to MySQL DB successful\nConnection to MySQL DB successful\nConnection to MySQL DB successful\nConnection to MySQL DB successful\nConnection to MySQL DB successful\nConnection to MySQL DB successful\nConnection to MySQL DB successful\nConnection to MySQL DB successful\nConnection to MySQL DB successful\nConnection to MySQL DB successful\nConnection to MySQL DB successful\nConnection to MySQL DB successful\nConnection to MySQL DB successful\nConnection to MySQL DB successful\nConnection to MySQL DB successful\nConnection to MySQL DB successful\nConnection to MySQL DB successful\nConnection to MySQL DB successful\nConnection to MySQL DB successful\nConnection to MySQL DB successful\nConnection to MySQL DB successful\nConnection to MySQL DB successful\nConnection to MySQL DB successful\nConnection to MySQL DB successful\nConnection to MySQL DB successful\nConnection to MySQL DB successful\nConnection to MySQL DB successful\nConnection to MySQL DB successful\nConnection to MySQL DB successful\nConnection to MySQL DB successful\nConnection to MySQL DB successful\nConnection to MySQL DB successful\nConnection to MySQL DB successful\nConnection to MySQL DB successful\nConnection to MySQL DB successful\nConnection to MySQL DB successful\nConnection to MySQL DB successful\nConnection to MySQL DB successful\nConnection to MySQL DB successful\nConnection to MySQL DB successful\nConnection to MySQL DB successful\nConnection to MySQL DB successful\nConnection to MySQL DB successful\nConnection to MySQL DB successful\nConnection to MySQL DB successful\nConnection to MySQL DB successful\nConnection to MySQL DB successful\nConnection to MySQL DB successful\nConnection to MySQL DB successful\nConnection to MySQL DB successful\nConnection to MySQL DB successful\nConnection to MySQL DB successful\nConnection to MySQL DB successful\nConnection to MySQL DB successful\nConnection to MySQL DB successful\nConnection to MySQL DB successful\nConnection to MySQL DB successful\nConnection to MySQL DB successful\nConnection to MySQL DB successful\nConnection to MySQL DB successful\nConnection to MySQL DB successful\nConnection to MySQL DB successful\nConnection to MySQL DB successful\nConnection to MySQL DB successful\nConnection to MySQL DB successful\nConnection to MySQL DB successful\nConnection to MySQL DB successful\nConnection to MySQL DB successful\nConnection to MySQL DB successful\nConnection to MySQL DB successful\nConnection to MySQL DB successful\nConnection to MySQL DB successful\nConnection to MySQL DB successful\nConnection to MySQL DB successful\nConnection to MySQL DB successful\nConnection to MySQL DB successful\nConnection to MySQL DB successful\nConnection to MySQL DB successful\nConnection to MySQL DB successful\nConnection to MySQL DB successful\nConnection to MySQL DB successful\nConnection to MySQL DB successful\nConnection to MySQL DB successful\nConnection to MySQL DB successful\nConnection to MySQL DB successful\nConnection to MySQL DB successful\nConnection to MySQL DB successful\nConnection to MySQL DB successful\nConnection to MySQL DB successful\nConnection to MySQL DB successful\nConnection to MySQL DB successful\nConnection to MySQL DB successful\nConnection to MySQL DB successful\nConnection to MySQL DB successful\nConnection to MySQL DB successful\nConnection to MySQL DB successful\nConnection to MySQL DB successful\nConnection to MySQL DB successful\nConnection to MySQL DB successful\nConnection to MySQL DB successful\nConnection to MySQL DB successful\nConnection to MySQL DB successful\nConnection to MySQL DB successful\nConnection to MySQL DB successful\nConnection to MySQL DB successful\nConnection to MySQL DB successful\nConnection to MySQL DB successful\nConnection to MySQL DB successful\nConnection to MySQL DB successful\nConnection to MySQL DB successful\nConnection to MySQL DB successful\nConnection to MySQL DB successful\nConnection to MySQL DB successful\nConnection to MySQL DB successful\nConnection to MySQL DB successful\nConnection to MySQL DB successful\nConnection to MySQL DB successful\nConnection to MySQL DB successful\nConnection to MySQL DB successful\nConnection to MySQL DB successful\nConnection to MySQL DB successful\nConnection to MySQL DB successful\nConnection to MySQL DB successful\nConnection to MySQL DB successful\nConnection to MySQL DB successful\nConnection to MySQL DB successful\nConnection to MySQL DB successful\nConnection to MySQL DB successful\nConnection to MySQL DB successful\nConnection to MySQL DB successful\nConnection to MySQL DB successful\nConnection to MySQL DB successful\nConnection to MySQL DB successful\nConnection to MySQL DB successful\nConnection to MySQL DB successful\nConnection to MySQL DB successful\nConnection to MySQL DB successful\nConnection to MySQL DB successful\nConnection to MySQL DB successful\nConnection to MySQL DB successful\nConnection to MySQL DB successful\nConnection to MySQL DB successful\nConnection to MySQL DB successful\nConnection to MySQL DB successful\nConnection to MySQL DB successful\nConnection to MySQL DB successful\nConnection to MySQL DB successful\nConnection to MySQL DB successful\nConnection to MySQL DB successful\nConnection to MySQL DB successful\nConnection to MySQL DB successful\nConnection to MySQL DB successful\nConnection to MySQL DB successful\nConnection to MySQL DB successful\nConnection to MySQL DB successful\nConnection to MySQL DB successful\nConnection to MySQL DB successful\nConnection to MySQL DB successful\nConnection to MySQL DB successful\nConnection to MySQL DB successful\nConnection to MySQL DB successful\nConnection to MySQL DB successful\nConnection to MySQL DB successful\nConnection to MySQL DB successful\nConnection to MySQL DB successful\nConnection to MySQL DB successful\nConnection to MySQL DB successful\nConnection to MySQL DB successful\nConnection to MySQL DB successful\nConnection to MySQL DB successful\nConnection to MySQL DB successful\nConnection to MySQL DB successful\nConnection to MySQL DB successful\nConnection to MySQL DB successful\nConnection to MySQL DB successful\nConnection to MySQL DB successful\nConnection to MySQL DB successful\nConnection to MySQL DB successful\nConnection to MySQL DB successful\nConnection to MySQL DB successful\nConnection to MySQL DB successful\nConnection to MySQL DB successful\nConnection to MySQL DB successful\nConnection to MySQL DB successful\nConnection to MySQL DB successful\nConnection to MySQL DB successful\nConnection to MySQL DB successful\nConnection to MySQL DB successful\nConnection to MySQL DB successful\nConnection to MySQL DB successful\nConnection to MySQL DB successful\nConnection to MySQL DB successful\nConnection to MySQL DB successful\nConnection to MySQL DB successful\nConnection to MySQL DB successful\nConnection to MySQL DB successful\nConnection to MySQL DB successful\nConnection to MySQL DB successful\n"
    },
    {
     "output_type": "error",
     "ename": "UnboundLocalError",
     "evalue": "local variable 'dataset' referenced before assignment",
     "traceback": [
      "\u001b[0;31m---------------------------------------------------------------------------\u001b[0m",
      "\u001b[0;31mRemoteTraceback\u001b[0m                           Traceback (most recent call last)",
      "\u001b[0;31mRemoteTraceback\u001b[0m: \n\"\"\"\nTraceback (most recent call last):\n  File \"/home/conor/miniconda3/envs/PHD/lib/python3.8/multiprocessing/pool.py\", line 125, in worker\n    result = (True, func(*args, **kwds))\n  File \"/home/conor/miniconda3/envs/PHD/lib/python3.8/multiprocessing/pool.py\", line 48, in mapstar\n    return list(map(*args))\n  File \"<ipython-input-5-57921faf5aab>\", line 10, in upload_playermatch_data\n    for j, match in enumerate(dataset.values()):\nUnboundLocalError: local variable 'dataset' referenced before assignment\n\"\"\"",
      "\nThe above exception was the direct cause of the following exception:\n",
      "\u001b[0;31mUnboundLocalError\u001b[0m                         Traceback (most recent call last)",
      "\u001b[0;32m<ipython-input-6-01908e1a6715>\u001b[0m in \u001b[0;36m<module>\u001b[0;34m\u001b[0m\n\u001b[1;32m      1\u001b[0m \u001b[0mpool\u001b[0m \u001b[0;34m=\u001b[0m \u001b[0mmultiprocessing\u001b[0m\u001b[0;34m.\u001b[0m\u001b[0mPool\u001b[0m\u001b[0;34m(\u001b[0m\u001b[0;34m)\u001b[0m\u001b[0;34m\u001b[0m\u001b[0;34m\u001b[0m\u001b[0m\n\u001b[0;32m----> 2\u001b[0;31m \u001b[0mpool\u001b[0m\u001b[0;34m.\u001b[0m\u001b[0mmap\u001b[0m\u001b[0;34m(\u001b[0m\u001b[0mupload_playermatch_data\u001b[0m\u001b[0;34m,\u001b[0m \u001b[0mglob\u001b[0m\u001b[0;34m.\u001b[0m\u001b[0mglob\u001b[0m\u001b[0;34m(\u001b[0m\u001b[0;34m\"/mnt/c/Users/conor/Google Drive/dota_output_files/*.pkl\"\u001b[0m\u001b[0;34m)\u001b[0m\u001b[0;34m)\u001b[0m\u001b[0;34m\u001b[0m\u001b[0;34m\u001b[0m\u001b[0m\n\u001b[0m\u001b[1;32m      3\u001b[0m \u001b[0mpool\u001b[0m\u001b[0;34m.\u001b[0m\u001b[0mclose\u001b[0m\u001b[0;34m(\u001b[0m\u001b[0;34m)\u001b[0m\u001b[0;34m\u001b[0m\u001b[0;34m\u001b[0m\u001b[0m\n",
      "\u001b[0;32m~/miniconda3/envs/PHD/lib/python3.8/multiprocessing/pool.py\u001b[0m in \u001b[0;36mmap\u001b[0;34m(self, func, iterable, chunksize)\u001b[0m\n\u001b[1;32m    362\u001b[0m         \u001b[0;32min\u001b[0m \u001b[0ma\u001b[0m \u001b[0mlist\u001b[0m \u001b[0mthat\u001b[0m \u001b[0;32mis\u001b[0m \u001b[0mreturned\u001b[0m\u001b[0;34m.\u001b[0m\u001b[0;34m\u001b[0m\u001b[0;34m\u001b[0m\u001b[0m\n\u001b[1;32m    363\u001b[0m         '''\n\u001b[0;32m--> 364\u001b[0;31m         \u001b[0;32mreturn\u001b[0m \u001b[0mself\u001b[0m\u001b[0;34m.\u001b[0m\u001b[0m_map_async\u001b[0m\u001b[0;34m(\u001b[0m\u001b[0mfunc\u001b[0m\u001b[0;34m,\u001b[0m \u001b[0miterable\u001b[0m\u001b[0;34m,\u001b[0m \u001b[0mmapstar\u001b[0m\u001b[0;34m,\u001b[0m \u001b[0mchunksize\u001b[0m\u001b[0;34m)\u001b[0m\u001b[0;34m.\u001b[0m\u001b[0mget\u001b[0m\u001b[0;34m(\u001b[0m\u001b[0;34m)\u001b[0m\u001b[0;34m\u001b[0m\u001b[0;34m\u001b[0m\u001b[0m\n\u001b[0m\u001b[1;32m    365\u001b[0m \u001b[0;34m\u001b[0m\u001b[0m\n\u001b[1;32m    366\u001b[0m     \u001b[0;32mdef\u001b[0m \u001b[0mstarmap\u001b[0m\u001b[0;34m(\u001b[0m\u001b[0mself\u001b[0m\u001b[0;34m,\u001b[0m \u001b[0mfunc\u001b[0m\u001b[0;34m,\u001b[0m \u001b[0miterable\u001b[0m\u001b[0;34m,\u001b[0m \u001b[0mchunksize\u001b[0m\u001b[0;34m=\u001b[0m\u001b[0;32mNone\u001b[0m\u001b[0;34m)\u001b[0m\u001b[0;34m:\u001b[0m\u001b[0;34m\u001b[0m\u001b[0;34m\u001b[0m\u001b[0m\n",
      "\u001b[0;32m~/miniconda3/envs/PHD/lib/python3.8/multiprocessing/pool.py\u001b[0m in \u001b[0;36mget\u001b[0;34m(self, timeout)\u001b[0m\n\u001b[1;32m    766\u001b[0m             \u001b[0;32mreturn\u001b[0m \u001b[0mself\u001b[0m\u001b[0;34m.\u001b[0m\u001b[0m_value\u001b[0m\u001b[0;34m\u001b[0m\u001b[0;34m\u001b[0m\u001b[0m\n\u001b[1;32m    767\u001b[0m         \u001b[0;32melse\u001b[0m\u001b[0;34m:\u001b[0m\u001b[0;34m\u001b[0m\u001b[0;34m\u001b[0m\u001b[0m\n\u001b[0;32m--> 768\u001b[0;31m             \u001b[0;32mraise\u001b[0m \u001b[0mself\u001b[0m\u001b[0;34m.\u001b[0m\u001b[0m_value\u001b[0m\u001b[0;34m\u001b[0m\u001b[0;34m\u001b[0m\u001b[0m\n\u001b[0m\u001b[1;32m    769\u001b[0m \u001b[0;34m\u001b[0m\u001b[0m\n\u001b[1;32m    770\u001b[0m     \u001b[0;32mdef\u001b[0m \u001b[0m_set\u001b[0m\u001b[0;34m(\u001b[0m\u001b[0mself\u001b[0m\u001b[0;34m,\u001b[0m \u001b[0mi\u001b[0m\u001b[0;34m,\u001b[0m \u001b[0mobj\u001b[0m\u001b[0;34m)\u001b[0m\u001b[0;34m:\u001b[0m\u001b[0;34m\u001b[0m\u001b[0;34m\u001b[0m\u001b[0m\n",
      "\u001b[0;31mUnboundLocalError\u001b[0m: local variable 'dataset' referenced before assignment"
     ]
    }
   ],
   "source": [
    "pool = multiprocessing.Pool()\n",
    "pool.map(upload_playermatch_data, glob.glob(\"/mnt/c/Users/conor/Google Drive/dota_output_files/*.pkl\"))\n",
    "pool.close()"
   ]
  },
  {
   "cell_type": "code",
   "execution_count": 5,
   "metadata": {
    "tags": []
   },
   "outputs": [
    {
     "output_type": "stream",
     "name": "stdout",
     "text": "Connection to MySQL DB successful\n"
    },
    {
     "output_type": "display_data",
     "data": {
      "text/plain": "HBox(children=(FloatProgress(value=0.0, max=1000.0), HTML(value='')))",
      "application/vnd.jupyter.widget-view+json": {
       "version_major": 2,
       "version_minor": 0,
       "model_id": "acb04b94b44b458eaba5a58b58d5ce62"
      }
     },
     "metadata": {}
    },
    {
     "output_type": "stream",
     "name": "stdout",
     "text": "\n"
    }
   ],
   "source": [
    "connection = create_connection(\"localhost\", \"root\", \"svcSypBrMB1CG8qiM\", \"test1\")\n",
    "\n",
    "for i, file_name in enumerate(tqdm(glob.glob(\"/mnt/c/Users/conor/Google Drive/dota_output_files/*.pkl\"))):\n",
    "\n",
    "    if i != 0:\n",
    "        #break\n",
    "        pass\n",
    "\n",
    "    try:\n",
    "        dataset = pickle_read(file_name)\n",
    "    except:\n",
    "        continue\n",
    "\n",
    "    for j, match in enumerate(dataset.values()):\n",
    "\n",
    "        if j!=0:\n",
    "            #break\n",
    "            pass\n",
    "\n",
    "        try:\n",
    "            players = match[\"players\"]\n",
    "\n",
    "        except:\n",
    "            continue \n",
    "\n",
    "        for k, player in enumerate(players):\n",
    "\n",
    "            if k!=0:\n",
    "                #break\n",
    "                pass\n",
    "            \n",
    "            try:\n",
    "                match_id=match[\"match_id\"]\n",
    "                player_id=player[\"account_id\"]\n",
    "                hero_id=player[\"hero_id\"]\n",
    "                player_team=player[\"isRadiant\"]\n",
    "                player_team = 1 if player_team==True else 0\n",
    "\n",
    "                insert =f\"\"\"\n",
    "                        INSERT INTO\n",
    "                        `playermatch` (`match_id`, `player_id`, `hero_id`, `player_team`)\n",
    "                        VALUES\n",
    "                        ('{match_id}', '{player_id}', '{hero_id}', '{player_team}');\n",
    "                        \"\"\"\n",
    "\n",
    "                execute_query(connection, insert, verbose=False)\n",
    "                \n",
    "            except:\n",
    "                continue\n",
    "\n",
    "connection.close()"
   ]
  },
  {
   "cell_type": "code",
   "execution_count": 18,
   "metadata": {},
   "outputs": [],
   "source": [
    "connection.close()"
   ]
  },
  {
   "cell_type": "markdown",
   "metadata": {},
   "source": [
    "# Heroes"
   ]
  },
  {
   "cell_type": "code",
   "execution_count": null,
   "metadata": {},
   "outputs": [],
   "source": [
    "connection = create_connection(\"localhost\", \"root\", \"svcSypBrMB1CG8qiM\", \"test1\")\n",
    "\n",
    "for i, file_name in enumerate(tqdm(glob.glob(\"/mnt/c/Users/conor/Google Drive/dota_output_files/*.pkl\"))):\n",
    "\n",
    "    if i != 0:\n",
    "        break\n",
    "        pass\n",
    "\n",
    "    try:\n",
    "        dataset = pickle_read(file_name)\n",
    "    except:\n",
    "        continue\n",
    "\n",
    "    for j, match in enumerate(dataset.values()):\n",
    "\n",
    "        if j!=0:\n",
    "            break\n",
    "            pass\n",
    "\n",
    "        for k, player in enumerate(match[\"players\"]):\n",
    "\n",
    "            if k!=0:\n",
    "                break\n",
    "                pass\n",
    "            \n",
    "            try:\n",
    "                match_id=match[\"match_id\"]\n",
    "                player_id=player[\"account_id\"]\n",
    "                hero_id=player[\"hero_id\"]\n",
    "\n",
    "            except:\n",
    "                continue\n",
    "\n",
    "            insert =f\"\"\"\n",
    "                    INSERT INTO\n",
    "                    `playermatch` (`match_id`, `player_id`, `hero_id`)\n",
    "                    VALUES\n",
    "                    ('{match_id}', '{player_id}', '{hero_id}');\n",
    "                    \"\"\"\n",
    "\n",
    "            execute_query(connection, insert, verbose=True)\n",
    "\n",
    "connection.close()"
   ]
  }
 ]
}