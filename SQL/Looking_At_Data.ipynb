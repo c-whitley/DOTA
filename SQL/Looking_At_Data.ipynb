{
 "metadata": {
  "language_info": {
   "codemirror_mode": {
    "name": "ipython",
    "version": 3
   },
   "file_extension": ".py",
   "mimetype": "text/x-python",
   "name": "python",
   "nbconvert_exporter": "python",
   "pygments_lexer": "ipython3",
   "version": "3.8.0-final"
  },
  "orig_nbformat": 2,
  "kernelspec": {
   "name": "python_defaultSpec_1598052664441",
   "display_name": "Python 3.8.3 64-bit ('PHD': conda)"
  }
 },
 "nbformat": 4,
 "nbformat_minor": 2,
 "cells": [
  {
   "cell_type": "code",
   "execution_count": 1,
   "metadata": {
    "tags": []
   },
   "outputs": [],
   "source": [
    "import numpy as np \n",
    "import pandas as pd \n",
    "import matplotlib.pyplot as plt\n",
    "\n",
    "import os\n",
    "import glob\n",
    "\n",
    "from tqdm.notebook import tqdm\n",
    "\n",
    "from pprint import pprint\n",
    "\n",
    "from Connecting_DB import *"
   ]
  },
  {
   "cell_type": "code",
   "execution_count": 6,
   "metadata": {
    "tags": []
   },
   "outputs": [
    {
     "output_type": "stream",
     "name": "stdout",
     "text": "Connection to MySQL DB successful\n"
    },
    {
     "output_type": "display_data",
     "data": {
      "text/plain": "HBox(children=(FloatProgress(value=0.0, max=1000.0), HTML(value='')))",
      "application/vnd.jupyter.widget-view+json": {
       "version_major": 2,
       "version_minor": 0,
       "model_id": "92bc74d2768e486ea28fcffc2bbf9a7e"
      }
     },
     "metadata": {}
    },
    {
     "output_type": "stream",
     "name": "stdout",
     "text": "\n"
    }
   ],
   "source": [
    "connection = create_connection(\"localhost\", \"root\", \"svcSypBrMB1CG8qiM\", \"test1\")\n",
    "\n",
    "for i, file_name in enumerate(tqdm(glob.glob(\"/mnt/c/Users/conor/Google Drive/dota_output_files/*.pkl\"))):\n",
    "\n",
    "    if i != 0:\n",
    "        #break\n",
    "        pass\n",
    "\n",
    "    try:\n",
    "        dataset = pickle_read(file_name)\n",
    "    except:\n",
    "        continue\n",
    "\n",
    "    for j, match in enumerate(dataset.values()):\n",
    "\n",
    "        if j != 0:\n",
    "            #break\n",
    "            pass\n",
    "        \n",
    "        try:\n",
    "            match_id=match[\"match_id\"]\n",
    "            start_time=match[\"start_time\"]\n",
    "            duration=match[\"duration\"]\n",
    "            radiant_win=match[\"radiant_win\"]\n",
    "\n",
    "        except:\n",
    "            continue\n",
    "\n",
    "        insert =f\"\"\"\n",
    "                INSERT INTO\n",
    "                `matches` (`match_id`, `start_time`, `duration`, `radiant_win`)\n",
    "                VALUES\n",
    "                ('{match_id}', '{start_time}', '{duration}', '{radiant_win}');\n",
    "                \"\"\"\n",
    "\n",
    "        #print(insert)\n",
    "\n",
    "        execute_query(connection, insert)  "
   ]
  },
  {
   "cell_type": "code",
   "execution_count": 27,
   "metadata": {
    "tags": []
   },
   "outputs": [
    {
     "output_type": "stream",
     "name": "stdout",
     "text": "Connection to MySQL DB successful\n"
    },
    {
     "output_type": "display_data",
     "data": {
      "text/plain": "HBox(children=(FloatProgress(value=0.0, max=1000.0), HTML(value='')))",
      "application/vnd.jupyter.widget-view+json": {
       "version_major": 2,
       "version_minor": 0,
       "model_id": "976e6e2d2d9845ea9a8f047ae010289a"
      }
     },
     "metadata": {}
    },
    {
     "output_type": "stream",
     "name": "stdout",
     "text": "dict_keys(['match_id', 'barracks_status_dire', 'barracks_status_radiant', 'chat', 'cluster', 'cosmetics', 'dire_score', 'dire_team_id', 'draft_timings', 'duration', 'engine', 'first_blood_time', 'game_mode', 'human_players', 'leagueid', 'lobby_type', 'match_seq_num', 'negative_votes', 'objectives', 'picks_bans', 'positive_votes', 'radiant_gold_adv', 'radiant_score', 'radiant_team_id', 'radiant_win', 'radiant_xp_adv', 'skill', 'start_time', 'teamfights', 'tower_status_dire', 'tower_status_radiant', 'version', 'replay_salt', 'series_id', 'series_type', 'league', 'radiant_team', 'players', 'patch', 'region', 'all_word_counts', 'my_word_counts', 'throw', 'loss', 'replay_url'])\ninserted\ninserted\ninserted\ninserted\ninserted\ninserted\ninserted\ninserted\ninserted\ninserted\n\n"
    }
   ],
   "source": [
    "connection = create_connection(\"localhost\", \"root\", \"svcSypBrMB1CG8qiM\", \"test1\")\n",
    "\n",
    "for i, file_name in enumerate(tqdm(glob.glob(\"/mnt/c/Users/conor/Google Drive/dota_output_files/*.pkl\"))):\n",
    "\n",
    "    if i != 0:\n",
    "        break\n",
    "        pass\n",
    "\n",
    "    try:\n",
    "        dataset = pickle_read(file_name)\n",
    "    except:\n",
    "        continue\n",
    "\n",
    "    for j, match in enumerate(dataset.values()):\n",
    "\n",
    "        if j!=0:\n",
    "            break\n",
    "            pass\n",
    "\n",
    "        print(match.keys())\n",
    "\n",
    "        for k, player in enumerate(match[\"players\"]):\n",
    "            \n",
    "            try:\n",
    "                match_id=match[\"match_id\"]\n",
    "                player_id=player[\"account_id\"]\n",
    "                hero_id=player[\"hero_id\"]\n",
    "\n",
    "            except:\n",
    "                continue\n",
    "\n",
    "            insert =f\"\"\"\n",
    "                    USE test1\n",
    "                    INSERT INTO\n",
    "                    `playermatch` (`match_id`, `player_id`, `hero_id`)\n",
    "                    VALUES\n",
    "                    ('{match_id}', '{player_id}', '{hero_id}');\n",
    "                    \"\"\"\n",
    "\n",
    "            execute_query(connection, insert)\n",
    "            print(\"inserted\")"
   ]
  }
 ]
}