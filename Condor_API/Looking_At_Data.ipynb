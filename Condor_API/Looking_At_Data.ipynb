{
 "metadata": {
  "language_info": {
   "codemirror_mode": {
    "name": "ipython",
    "version": 3
   },
   "file_extension": ".py",
   "mimetype": "text/x-python",
   "name": "python",
   "nbconvert_exporter": "python",
   "pygments_lexer": "ipython3",
   "version": "3.8.0-final"
  },
  "orig_nbformat": 2,
  "kernelspec": {
   "name": "python_defaultSpec_1597954994561",
   "display_name": "Python 3.8.3 64-bit ('PHD': conda)"
  }
 },
 "nbformat": 4,
 "nbformat_minor": 2,
 "cells": [
  {
   "cell_type": "code",
   "execution_count": 2,
   "metadata": {
    "tags": []
   },
   "outputs": [],
   "source": [
    "import numpy as np \n",
    "import pandas as pd \n",
    "import matplotlib.pyplot as plt\n",
    "\n",
    "import os\n",
    "import glob\n",
    "\n",
    "from tqdm.notebook import tqdm\n",
    "\n",
    "from pprint import pprint\n",
    "\n",
    "from dota_api_collate import pickle_read"
   ]
  },
  {
   "cell_type": "code",
   "execution_count": 3,
   "metadata": {},
   "outputs": [],
   "source": [
    "fn = glob.glob(\"/mnt/c/Users/conor/Google Drive/dota_output_files/*.pkl\")[0]"
   ]
  },
  {
   "cell_type": "code",
   "execution_count": 4,
   "metadata": {},
   "outputs": [],
   "source": [
    "try:\n",
    "    dataset = pickle_read(\"/mnt/b/Google_Drive/total_data.pkl\")\n",
    "\n",
    "except:\n",
    "    dataset = pickle_read(fn)"
   ]
  },
  {
   "cell_type": "code",
   "execution_count": 12,
   "metadata": {},
   "outputs": [],
   "source": [
    "item = dataset.popitem()"
   ]
  },
  {
   "cell_type": "code",
   "execution_count": 36,
   "metadata": {},
   "outputs": [],
   "source": [
    "import mysql.connector\n",
    "from mysql.connector import Error\n",
    "\n",
    "def create_connection(host_name, user_name, user_password, db_name):\n",
    "    connection = None\n",
    "    try:\n",
    "        connection = mysql.connector.connect(\n",
    "            host=host_name,\n",
    "            user=user_name,\n",
    "            passwd=user_password,\n",
    "            database=db_name\n",
    "        )\n",
    "        print(\"Connection to MySQL DB successful\")\n",
    "    except Error as e:\n",
    "        print(f\"The error '{e}' occurred\")\n",
    "\n",
    "    return connection\n",
    "\n",
    "def execute_query(connection, query):\n",
    "    cursor = connection.cursor()\n",
    "    try:\n",
    "        cursor.execute(query)\n",
    "        connection.commit()\n",
    "        print(\"Query executed successfully\")\n",
    "    except Error as e:\n",
    "        print(f\"The error '{e}' occurred\")"
   ]
  },
  {
   "cell_type": "code",
   "execution_count": 11,
   "metadata": {
    "tags": [
     "outputPrepend"
    ]
   },
   "outputs": [
    {
     "output_type": "stream",
     "name": "stdout",
     "text": "         'healing': 242,\n                               'item_uses': {'quelling_blade': 1},\n                               'killed': {'npc_dota_hero_crystal_maiden': 1},\n                               'xp_delta': 744,\n                               'xp_end': 5408,\n                               'xp_start': 4665},\n                              {'ability_targets': {},\n                               'ability_uses': {'night_stalker_darkness': 1},\n                               'buybacks': 0,\n                               'damage': 0,\n                               'deaths': 0,\n                               'deaths_pos': {},\n                               'gold_delta': 310,\n                               'healing': 0,\n                               'item_uses': {'tpscroll': 1},\n                               'killed': {},\n                               'xp_delta': 604,\n                               'xp_end': 3444,\n                               'xp_start': 2840}],\n                  'start': 639},\n                 {'deaths': 6,\n                  'end': 916,\n                  'last_death': 901,\n                  'players': [{'ability_targets': {},\n                               'ability_uses': {'crystal_maiden_crystal_nova': 1,\n                                                'crystal_maiden_freezing_field': 1,\n                                                'crystal_maiden_frostbite': 1},\n                               'buybacks': 0,\n                               'damage': 1359,\n                               'deaths': 1,\n                               'deaths_pos': {'124': {'124': 1}},\n                               'gold_delta': 55,\n                               'healing': 0,\n                               'item_uses': {'arcane_boots': 1, 'tpscroll': 1},\n                               'killed': {},\n                               'xp_delta': 40,\n                               'xp_end': 4236,\n                               'xp_start': 4196},\n                              {'ability_targets': {},\n                               'ability_uses': {'tidehunter_anchor_smash': 1,\n                                                'tidehunter_gush': 1,\n                                                'tidehunter_ravage': 1},\n                               'buybacks': 0,\n                               'damage': 1275,\n                               'deaths': 1,\n                               'deaths_pos': {'126': {'126': 1}},\n                               'gold_delta': -70,\n                               'healing': 0,\n                               'item_uses': {'phase_boots': 2, 'tpscroll': 1},\n                               'killed': {},\n                               'xp_delta': 40,\n                               'xp_end': 5046,\n                               'xp_start': 5006},\n                              {'ability_targets': {},\n                               'ability_uses': {'techies_focused_detonate': 1,\n                                                'techies_land_mines': 1,\n                                                'techies_remote_mines': 1,\n                                                'techies_suicide': 1},\n                               'buybacks': 0,\n                               'damage': 2259,\n                               'deaths': 1,\n                               'deaths_pos': {'126': {'126': 1}},\n                               'gold_delta': 85,\n                               'healing': 0,\n                               'item_uses': {'arcane_boots': 1},\n                               'killed': {},\n                               'xp_delta': 10,\n                               'xp_end': 6357,\n                               'xp_start': 6347},\n                              {'ability_targets': {},\n                               'ability_uses': {'wisp_overcharge': 3,\n                                                'wisp_spirits': 2,\n                                                'wisp_spirits_in': 6,\n                                                'wisp_tether': 2,\n                                                'wisp_tether_break': 1},\n                               'buybacks': 0,\n                               'damage': 2453,\n                               'deaths': 0,\n                               'deaths_pos': {},\n                               'gold_delta': 894,\n                               'healing': 25,\n                               'item_uses': {},\n                               'killed': {'npc_dota_hero_night_stalker': 1,\n                                          'npc_dota_hero_void_spirit': 1},\n                               'xp_delta': 2392,\n                               'xp_end': 10013,\n                               'xp_start': 7621},\n                              {'ability_targets': {},\n                               'ability_uses': {'pudge_rot': 4},\n                               'buybacks': 0,\n                               'damage': 224,\n                               'deaths': 1,\n                               'deaths_pos': {'122': {'126': 1}},\n                               'gold_delta': -19,\n                               'healing': 0,\n                               'item_uses': {'tpscroll': 1},\n                               'killed': {},\n                               'xp_delta': 313,\n                               'xp_end': 5656,\n                               'xp_start': 5420},\n                              {'ability_targets': {},\n                               'ability_uses': {'void_spirit_aether_remnant': 3,\n                                                'void_spirit_astral_step': 2,\n                                                'void_spirit_dissimilate': 1,\n                                                'void_spirit_resonant_pulse': 2},\n                               'buybacks': 0,\n                               'damage': 2195,\n                               'deaths': 1,\n                               'deaths_pos': {'104': {'114': 1}},\n                               'gold_delta': 145,\n                               'healing': 571,\n                               'item_uses': {'magic_wand': 1,\n                                             'power_treads': 8,\n                                             'tpscroll': 1},\n                               'killed': {},\n                               'xp_delta': 780,\n                               'xp_end': 7985,\n                               'xp_start': 7205},\n                              {'ability_targets': {},\n                               'ability_uses': {'treant_leech_seed': 1,\n                                                'treant_living_armor': 3,\n                                                'treant_natures_grasp': 1,\n                                                'treant_overgrowth': 1},\n                               'buybacks': 0,\n                               'damage': 724,\n                               'deaths': 0,\n                               'deaths_pos': {},\n                               'gold_delta': 317,\n                               'healing': 618,\n                               'item_uses': {'arcane_ring': 1,\n                                             'magic_stick': 1,\n                                             'tpscroll': 1},\n                               'killed': {},\n                               'xp_delta': 754,\n                               'xp_end': 3873,\n                               'xp_start': 3119},\n                              {'ability_targets': {},\n                               'ability_uses': {'visage_grave_chill': 1,\n                                                'visage_soul_assumption': 5,\n                                                'visage_summon_familiars': 1},\n                               'buybacks': 0,\n                               'damage': 2504,\n                               'deaths': 0,\n                               'deaths_pos': {},\n                               'gold_delta': 475,\n                               'healing': 0,\n                               'item_uses': {'enchanted_mango': 2,\n                                             'medallion_of_courage': 3},\n                               'killed': {'npc_dota_hero_techies': 1},\n                               'xp_delta': 799,\n                               'xp_end': 5285,\n                               'xp_start': 4486},\n                              {'ability_targets': {},\n                               'ability_uses': {'faceless_void_chronosphere': 1,\n                                                'faceless_void_time_dilation': 1,\n                                                'faceless_void_time_walk': 3},\n                               'buybacks': 0,\n                               'damage': 253,\n                               'deaths': 0,\n                               'deaths_pos': {},\n                               'gold_delta': 358,\n                               'healing': 612,\n                               'item_uses': {'mask_of_madness': 1,\n                                             'tpscroll': 1},\n                               'killed': {},\n                               'xp_delta': 679,\n                               'xp_end': 7156,\n                               'xp_start': 6477},\n                              {'ability_targets': {},\n                               'ability_uses': {'night_stalker_crippling_fear': 1,\n                                                'night_stalker_darkness': 1,\n                                                'night_stalker_void': 2},\n                               'buybacks': 0,\n                               'damage': 1338,\n                               'deaths': 1,\n                               'deaths_pos': {'110': {'112': 1}},\n                               'gold_delta': 740,\n                               'healing': 300,\n                               'item_uses': {'magic_wand': 1,\n                                             'phase_boots': 3,\n                                             'tpscroll': 1},\n                               'killed': {'npc_dota_hero_crystal_maiden': 1,\n                                          'npc_dota_hero_pudge': 1,\n                                          'npc_dota_hero_tidehunter': 1},\n                               'xp_delta': 829,\n                               'xp_end': 5475,\n                               'xp_start': 4646}],\n                  'start': 861},\n                 {'deaths': 4,\n                  'end': 1372,\n                  'last_death': 1357,\n                  'players': [{'ability_targets': {},\n                               'ability_uses': {'crystal_maiden_crystal_nova': 4,\n                                                'crystal_maiden_freezing_field': 1,\n                                                'crystal_maiden_frostbite': 2},\n                               'buybacks': 0,\n                               'damage': 2510,\n                               'deaths': 0,\n                               'deaths_pos': {},\n                               'gold_delta': 221,\n                               'healing': 0,\n                               'item_uses': {'ward_dispenser': 2,\n                                             'ward_sentry': 1},\n                               'killed': {},\n                               'xp_delta': 848,\n                               'xp_end': 7749,\n                               'xp_start': 6921},\n                              {'ability_targets': {},\n                               'ability_uses': {'tidehunter_anchor_smash': 2,\n                                                'tidehunter_gush': 2},\n                               'buybacks': 0,\n                               'damage': 1298,\n                               'deaths': 0,\n                               'deaths_pos': {},\n                               'gold_delta': 142,\n                               'healing': 187,\n                               'item_uses': {'phase_boots': 4},\n                               'killed': {},\n                               'xp_delta': 792,\n                               'xp_end': 10774,\n                               'xp_start': 10002},\n                              {'ability_targets': {},\n                               'ability_uses': {'techies_focused_detonate': 2,\n                                                'techies_land_mines': 1,\n                                                'techies_remote_mines': 2,\n                                                'techies_suicide': 1},\n                               'buybacks': 0,\n                               'damage': 3453,\n                               'deaths': 0,\n                               'deaths_pos': {},\n                               'gold_delta': 990,\n                               'healing': 0,\n                               'item_uses': {'arcane_boots': 1, 'clarity': 1},\n                               'killed': {'npc_dota_hero_night_stalker': 1,\n                                          'npc_dota_hero_treant': 1,\n                                          'npc_dota_hero_visage': 1},\n                               'xp_delta': 847,\n                               'xp_end': 12718,\n                               'xp_start': 11890},\n                              {'ability_targets': {},\n                               'ability_uses': {'wisp_overcharge': 2,\n                                                'wisp_spirits': 1,\n                                                'wisp_spirits_in': 2,\n                                                'wisp_tether': 1,\n                                                'wisp_tether_break': 1},\n                               'buybacks': 0,\n                               'damage': 1635,\n                               'deaths': 0,\n                               'deaths_pos': {},\n                               'gold_delta': 142,\n                               'healing': 0,\n                               'item_uses': {'essence_ring': 1},\n                               'killed': {},\n                               'xp_delta': 772,\n                               'xp_end': 16999,\n                               'xp_start': 16227},\n                              {'ability_targets': {},\n                               'ability_uses': {'pudge_dismember': 1,\n                                                'pudge_meat_hook': 1,\n                                                'pudge_rot': 1},\n                               'buybacks': 0,\n                               'damage': 978,\n                               'deaths': 1,\n                               'deaths_pos': {'158': {'146': 1}},\n                               'gold_delta': -41,\n                               'healing': 311,\n                               'item_uses': {'magic_wand': 1},\n                               'killed': {},\n                               'xp_delta': 477,\n                               'xp_end': 10890,\n                               'xp_start': 10413},\n                              {'ability_targets': {},\n                               'ability_uses': {'void_spirit_aether_remnant': 2,\n                                                'void_spirit_astral_step': 2,\n                                                'void_spirit_dissimilate': 2,\n                                                'void_spirit_resonant_pulse': 2},\n                               'buybacks': 0,\n                               'damage': 1247,\n                               'deaths': 0,\n                               'deaths_pos': {},\n                               'gold_delta': 96,\n                               'healing': 445,\n                               'item_uses': {'bottle': 7,\n                                             'magic_wand': 1,\n                                             'power_treads': 9},\n                               'killed': {},\n                               'xp_delta': 618,\n                               'xp_end': 12248,\n                               'xp_start': 11631},\n                              {'ability_targets': {},\n                               'ability_uses': {'treant_leech_seed': 1,\n                                                'treant_natures_grasp': 1,\n                                                'treant_overgrowth': 1},\n                               'buybacks': 0,\n                               'damage': 1131,\n                               'deaths': 1,\n                               'deaths_pos': {'156': {'148': 1}},\n                               'gold_delta': -60,\n                               'healing': 282,\n                               'item_uses': {'magic_stick': 1,\n                                             'meteor_hammer': 1,\n                                             'tpscroll': 1},\n                               'killed': {},\n                               'xp_delta': 150,\n                               'xp_end': 8124,\n                               'xp_start': 7974},\n                              {'ability_targets': {},\n                               'ability_uses': {'visage_grave_chill': 1,\n                                                'visage_soul_assumption': 1,\n                                                'visage_summon_familiars': 1},\n                               'buybacks': 1,\n                               'damage': 232,\n                               'deaths': 1,\n                               'deaths_pos': {'156': {'150': 1}},\n                               'gold_delta': -78,\n                               'healing': 0,\n                               'item_uses': {'medallion_of_courage': 1,\n                                             'rod_of_atos': 1,\n                                             'tpscroll': 1},\n                               'killed': {},\n                               'xp_delta': 93,\n                               'xp_end': 8083,\n                               'xp_start': 7990},\n                              {'ability_targets': {},\n                               'ability_uses': {'faceless_void_chronosphere': 1,\n                                                'faceless_void_time_dilation': 2,\n                                                'faceless_void_time_walk': 2},\n                               'buybacks': 0,\n                               'damage': 90,\n                               'deaths': 0,\n                               'deaths_pos': {},\n                               'gold_delta': 298,\n                               'healing': 302,\n                               'item_uses': {'enchanted_mango': 1},\n                               'killed': {},\n                               'xp_delta': 618,\n                               'xp_end': 11052,\n                               'xp_start': 10435},\n                              {'ability_targets': {},\n                               'ability_uses': {'night_stalker_crippling_fear': 1,\n                                                'night_stalker_darkness': 1,\n                                                'night_stalker_void': 2},\n                               'buybacks': 0,\n                               'damage': 2024,\n                               'deaths': 1,\n                               'deaths_pos': {'166': {'136': 1}},\n                               'gold_delta': 132,\n                               'healing': 300,\n                               'item_uses': {'essence_ring': 1,\n                                             'magic_wand': 1,\n                                             'phase_boots': 2,\n                                             'spirit_vessel': 2},\n                               'killed': {'npc_dota_hero_pudge': 1},\n                               'xp_delta': 604,\n                               'xp_end': 8312,\n                               'xp_start': 7709}],\n                  'start': 1336}],\n  'throw': -1,\n  'tower_status_dire': 1924,\n  'tower_status_radiant': 1983,\n  'version': 21})\n"
    }
   ],
   "source": [
    "pprint(item)"
   ]
  },
  {
   "cell_type": "code",
   "execution_count": 35,
   "metadata": {
    "tags": []
   },
   "outputs": [
    {
     "output_type": "stream",
     "name": "stdout",
     "text": "Connection to MySQL DB successful\n"
    },
    {
     "output_type": "display_data",
     "data": {
      "text/plain": "HBox(children=(FloatProgress(value=0.0, max=1000.0), HTML(value='')))",
      "application/vnd.jupyter.widget-view+json": {
       "version_major": 2,
       "version_minor": 0,
       "model_id": "22e9cf11ed994d4ea77dae35769bae07"
      }
     },
     "metadata": {}
    },
    {
     "output_type": "stream",
     "name": "stdout",
     "text": "dict_keys(['match_id', 'barracks_status_dire', 'barracks_status_radiant', 'chat', 'cluster', 'cosmetics', 'dire_score', 'dire_team_id', 'draft_timings', 'duration', 'engine', 'first_blood_time', 'game_mode', 'human_players', 'leagueid', 'lobby_type', 'match_seq_num', 'negative_votes', 'objectives', 'picks_bans', 'positive_votes', 'radiant_gold_adv', 'radiant_score', 'radiant_team_id', 'radiant_win', 'radiant_xp_adv', 'skill', 'start_time', 'teamfights', 'tower_status_dire', 'tower_status_radiant', 'version', 'replay_salt', 'series_id', 'series_type', 'league', 'radiant_team', 'dire_team', 'players', 'patch', 'all_word_counts', 'my_word_counts', 'comeback', 'stomp', 'replay_url'])\n1128\ndict_keys(['match_id', 'barracks_status_dire', 'barracks_status_radiant', 'chat', 'cluster', 'cosmetics', 'dire_score', 'dire_team_id', 'draft_timings', 'duration', 'engine', 'first_blood_time', 'game_mode', 'human_players', 'leagueid', 'lobby_type', 'match_seq_num', 'negative_votes', 'objectives', 'picks_bans', 'positive_votes', 'radiant_gold_adv', 'radiant_score', 'radiant_team_id', 'radiant_win', 'radiant_xp_adv', 'skill', 'start_time', 'teamfights', 'tower_status_dire', 'tower_status_radiant', 'version', 'replay_salt', 'series_id', 'series_type', 'league', 'radiant_team', 'dire_team', 'players', 'patch', 'all_word_counts', 'my_word_counts', 'comeback', 'stomp', 'replay_url'])\n1128\ndict_keys(['match_id', 'barracks_status_dire', 'barracks_status_radiant', 'chat', 'cluster', 'cosmetics', 'dire_score', 'dire_team_id', 'draft_timings', 'duration', 'engine', 'first_blood_time', 'game_mode', 'human_players', 'leagueid', 'lobby_type', 'match_seq_num', 'negative_votes', 'objectives', 'picks_bans', 'positive_votes', 'radiant_gold_adv', 'radiant_score', 'radiant_team_id', 'radiant_win', 'radiant_xp_adv', 'skill', 'start_time', 'teamfights', 'tower_status_dire', 'tower_status_radiant', 'version', 'replay_salt', 'series_id', 'series_type', 'league', 'radiant_team', 'dire_team', 'players', 'patch', 'all_word_counts', 'my_word_counts', 'comeback', 'stomp', 'replay_url'])\n1128\ndict_keys(['match_id', 'barracks_status_dire', 'barracks_status_radiant', 'chat', 'cluster', 'cosmetics', 'dire_score', 'dire_team_id', 'draft_timings', 'duration', 'engine', 'first_blood_time', 'game_mode', 'human_players', 'leagueid', 'lobby_type', 'match_seq_num', 'negative_votes', 'objectives', 'picks_bans', 'positive_votes', 'radiant_gold_adv', 'radiant_score', 'radiant_team_id', 'radiant_win', 'radiant_xp_adv', 'skill', 'start_time', 'teamfights', 'tower_status_dire', 'tower_status_radiant', 'version', 'replay_salt', 'series_id', 'series_type', 'league', 'radiant_team', 'dire_team', 'players', 'patch', 'all_word_counts', 'my_word_counts', 'comeback', 'stomp', 'replay_url'])\n1128\n\n"
    }
   ],
   "source": [
    "connection = create_connection(\"localhost\", \"root\", \"svcSypBrMB1CG8qiM\", \"test1\")\n",
    "\n",
    "for i, file_name in enumerate(tqdm(glob.glob(\"/mnt/c/Users/conor/Google Drive/dota_output_files/*.pkl\"))):\n",
    "\n",
    "    dataset = pickle_read(file_name)\n",
    "\n",
    "    for j, row in enumerate(dataset):\n",
    "\n",
    "        execute_query(\"\")\n",
    "\n",
    "        print(list(dataset.values())[1].keys())\n",
    "        pprint(list(dataset.values())[1][\"duration\"])\n",
    "\n",
    "        if j != 0:\n",
    "\n",
    "            break\n",
    "\n",
    "    if i != 0:\n",
    "        break"
   ]
  }
 ]
}